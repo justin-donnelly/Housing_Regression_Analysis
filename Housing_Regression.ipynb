{
  "nbformat": 4,
  "nbformat_minor": 0,
  "metadata": {
    "colab": {
      "provenance": [],
      "gpuType": "T4",
      "authorship_tag": "ABX9TyOtDbePK+YoHzJknaE/opaB",
      "include_colab_link": true
    },
    "kernelspec": {
      "name": "python3",
      "display_name": "Python 3"
    },
    "language_info": {
      "name": "python"
    },
    "accelerator": "GPU"
  },
  "cells": [
    {
      "cell_type": "markdown",
      "metadata": {
        "id": "view-in-github",
        "colab_type": "text"
      },
      "source": [
        "<a href=\"https://colab.research.google.com/github/justin-donnelly/Housing_Regression_Analysis/blob/main/Housing_Regression.ipynb\" target=\"_parent\"><img src=\"https://colab.research.google.com/assets/colab-badge.svg\" alt=\"Open In Colab\"/></a>"
      ]
    },
    {
      "cell_type": "code",
      "execution_count": null,
      "metadata": {
        "id": "Gjp87dpulKCJ"
      },
      "outputs": [],
      "source": [
        "from pathlib import Path\n",
        "import pandas as pd\n",
        "import tarfile\n",
        "import urllib.request\n",
        "import seaborn as sns\n",
        "import matplotlib.pyplot as plt\n",
        "import sklearn \n",
        "import tensorflow as tf\n",
        "import numpy as np"
      ]
    },
    {
      "cell_type": "code",
      "source": [
        "def load_data():\n",
        "  tarball_path = Path('datasets.housing.tgz')\n",
        "  if not tarball_path.is_file():\n",
        "    Path('datasets').mkdir(parents=True, exist_ok=True)\n",
        "    url = 'https://github.com/ageron/data/raw/main/housing.tgz'\n",
        "    urllib.request.urlretrieve(url, tarball_path)\n",
        "    with tarfile.open(tarball_path) as housing_tarball:\n",
        "      housing_tarball.extractall(path='datasets')\n",
        "\n",
        "\n",
        "  return pd.read_csv(Path('datasets/housing/housing.csv'))\n",
        "\n",
        "housing = load_data()"
      ],
      "metadata": {
        "id": "dkzvVsi1nICi"
      },
      "execution_count": null,
      "outputs": []
    },
    {
      "cell_type": "code",
      "source": [
        "housing.head()"
      ],
      "metadata": {
        "colab": {
          "base_uri": "https://localhost:8080/",
          "height": 206
        },
        "id": "mr-I2vYUnc3M",
        "outputId": "90c3b3e7-4668-4d3c-d6db-cbd0a649db16"
      },
      "execution_count": null,
      "outputs": [
        {
          "output_type": "execute_result",
          "data": {
            "text/plain": [
              "   longitude  latitude  housing_median_age  total_rooms  total_bedrooms  \\\n",
              "0    -122.23     37.88                41.0        880.0           129.0   \n",
              "1    -122.22     37.86                21.0       7099.0          1106.0   \n",
              "2    -122.24     37.85                52.0       1467.0           190.0   \n",
              "3    -122.25     37.85                52.0       1274.0           235.0   \n",
              "4    -122.25     37.85                52.0       1627.0           280.0   \n",
              "\n",
              "   population  households  median_income  median_house_value ocean_proximity  \n",
              "0       322.0       126.0         8.3252            452600.0        NEAR BAY  \n",
              "1      2401.0      1138.0         8.3014            358500.0        NEAR BAY  \n",
              "2       496.0       177.0         7.2574            352100.0        NEAR BAY  \n",
              "3       558.0       219.0         5.6431            341300.0        NEAR BAY  \n",
              "4       565.0       259.0         3.8462            342200.0        NEAR BAY  "
            ],
            "text/html": [
              "\n",
              "  <div id=\"df-eff66242-3a63-4677-84ab-3bd2a6dcaac5\">\n",
              "    <div class=\"colab-df-container\">\n",
              "      <div>\n",
              "<style scoped>\n",
              "    .dataframe tbody tr th:only-of-type {\n",
              "        vertical-align: middle;\n",
              "    }\n",
              "\n",
              "    .dataframe tbody tr th {\n",
              "        vertical-align: top;\n",
              "    }\n",
              "\n",
              "    .dataframe thead th {\n",
              "        text-align: right;\n",
              "    }\n",
              "</style>\n",
              "<table border=\"1\" class=\"dataframe\">\n",
              "  <thead>\n",
              "    <tr style=\"text-align: right;\">\n",
              "      <th></th>\n",
              "      <th>longitude</th>\n",
              "      <th>latitude</th>\n",
              "      <th>housing_median_age</th>\n",
              "      <th>total_rooms</th>\n",
              "      <th>total_bedrooms</th>\n",
              "      <th>population</th>\n",
              "      <th>households</th>\n",
              "      <th>median_income</th>\n",
              "      <th>median_house_value</th>\n",
              "      <th>ocean_proximity</th>\n",
              "    </tr>\n",
              "  </thead>\n",
              "  <tbody>\n",
              "    <tr>\n",
              "      <th>0</th>\n",
              "      <td>-122.23</td>\n",
              "      <td>37.88</td>\n",
              "      <td>41.0</td>\n",
              "      <td>880.0</td>\n",
              "      <td>129.0</td>\n",
              "      <td>322.0</td>\n",
              "      <td>126.0</td>\n",
              "      <td>8.3252</td>\n",
              "      <td>452600.0</td>\n",
              "      <td>NEAR BAY</td>\n",
              "    </tr>\n",
              "    <tr>\n",
              "      <th>1</th>\n",
              "      <td>-122.22</td>\n",
              "      <td>37.86</td>\n",
              "      <td>21.0</td>\n",
              "      <td>7099.0</td>\n",
              "      <td>1106.0</td>\n",
              "      <td>2401.0</td>\n",
              "      <td>1138.0</td>\n",
              "      <td>8.3014</td>\n",
              "      <td>358500.0</td>\n",
              "      <td>NEAR BAY</td>\n",
              "    </tr>\n",
              "    <tr>\n",
              "      <th>2</th>\n",
              "      <td>-122.24</td>\n",
              "      <td>37.85</td>\n",
              "      <td>52.0</td>\n",
              "      <td>1467.0</td>\n",
              "      <td>190.0</td>\n",
              "      <td>496.0</td>\n",
              "      <td>177.0</td>\n",
              "      <td>7.2574</td>\n",
              "      <td>352100.0</td>\n",
              "      <td>NEAR BAY</td>\n",
              "    </tr>\n",
              "    <tr>\n",
              "      <th>3</th>\n",
              "      <td>-122.25</td>\n",
              "      <td>37.85</td>\n",
              "      <td>52.0</td>\n",
              "      <td>1274.0</td>\n",
              "      <td>235.0</td>\n",
              "      <td>558.0</td>\n",
              "      <td>219.0</td>\n",
              "      <td>5.6431</td>\n",
              "      <td>341300.0</td>\n",
              "      <td>NEAR BAY</td>\n",
              "    </tr>\n",
              "    <tr>\n",
              "      <th>4</th>\n",
              "      <td>-122.25</td>\n",
              "      <td>37.85</td>\n",
              "      <td>52.0</td>\n",
              "      <td>1627.0</td>\n",
              "      <td>280.0</td>\n",
              "      <td>565.0</td>\n",
              "      <td>259.0</td>\n",
              "      <td>3.8462</td>\n",
              "      <td>342200.0</td>\n",
              "      <td>NEAR BAY</td>\n",
              "    </tr>\n",
              "  </tbody>\n",
              "</table>\n",
              "</div>\n",
              "      <button class=\"colab-df-convert\" onclick=\"convertToInteractive('df-eff66242-3a63-4677-84ab-3bd2a6dcaac5')\"\n",
              "              title=\"Convert this dataframe to an interactive table.\"\n",
              "              style=\"display:none;\">\n",
              "        \n",
              "  <svg xmlns=\"http://www.w3.org/2000/svg\" height=\"24px\"viewBox=\"0 0 24 24\"\n",
              "       width=\"24px\">\n",
              "    <path d=\"M0 0h24v24H0V0z\" fill=\"none\"/>\n",
              "    <path d=\"M18.56 5.44l.94 2.06.94-2.06 2.06-.94-2.06-.94-.94-2.06-.94 2.06-2.06.94zm-11 1L8.5 8.5l.94-2.06 2.06-.94-2.06-.94L8.5 2.5l-.94 2.06-2.06.94zm10 10l.94 2.06.94-2.06 2.06-.94-2.06-.94-.94-2.06-.94 2.06-2.06.94z\"/><path d=\"M17.41 7.96l-1.37-1.37c-.4-.4-.92-.59-1.43-.59-.52 0-1.04.2-1.43.59L10.3 9.45l-7.72 7.72c-.78.78-.78 2.05 0 2.83L4 21.41c.39.39.9.59 1.41.59.51 0 1.02-.2 1.41-.59l7.78-7.78 2.81-2.81c.8-.78.8-2.07 0-2.86zM5.41 20L4 18.59l7.72-7.72 1.47 1.35L5.41 20z\"/>\n",
              "  </svg>\n",
              "      </button>\n",
              "      \n",
              "  <style>\n",
              "    .colab-df-container {\n",
              "      display:flex;\n",
              "      flex-wrap:wrap;\n",
              "      gap: 12px;\n",
              "    }\n",
              "\n",
              "    .colab-df-convert {\n",
              "      background-color: #E8F0FE;\n",
              "      border: none;\n",
              "      border-radius: 50%;\n",
              "      cursor: pointer;\n",
              "      display: none;\n",
              "      fill: #1967D2;\n",
              "      height: 32px;\n",
              "      padding: 0 0 0 0;\n",
              "      width: 32px;\n",
              "    }\n",
              "\n",
              "    .colab-df-convert:hover {\n",
              "      background-color: #E2EBFA;\n",
              "      box-shadow: 0px 1px 2px rgba(60, 64, 67, 0.3), 0px 1px 3px 1px rgba(60, 64, 67, 0.15);\n",
              "      fill: #174EA6;\n",
              "    }\n",
              "\n",
              "    [theme=dark] .colab-df-convert {\n",
              "      background-color: #3B4455;\n",
              "      fill: #D2E3FC;\n",
              "    }\n",
              "\n",
              "    [theme=dark] .colab-df-convert:hover {\n",
              "      background-color: #434B5C;\n",
              "      box-shadow: 0px 1px 3px 1px rgba(0, 0, 0, 0.15);\n",
              "      filter: drop-shadow(0px 1px 2px rgba(0, 0, 0, 0.3));\n",
              "      fill: #FFFFFF;\n",
              "    }\n",
              "  </style>\n",
              "\n",
              "      <script>\n",
              "        const buttonEl =\n",
              "          document.querySelector('#df-eff66242-3a63-4677-84ab-3bd2a6dcaac5 button.colab-df-convert');\n",
              "        buttonEl.style.display =\n",
              "          google.colab.kernel.accessAllowed ? 'block' : 'none';\n",
              "\n",
              "        async function convertToInteractive(key) {\n",
              "          const element = document.querySelector('#df-eff66242-3a63-4677-84ab-3bd2a6dcaac5');\n",
              "          const dataTable =\n",
              "            await google.colab.kernel.invokeFunction('convertToInteractive',\n",
              "                                                     [key], {});\n",
              "          if (!dataTable) return;\n",
              "\n",
              "          const docLinkHtml = 'Like what you see? Visit the ' +\n",
              "            '<a target=\"_blank\" href=https://colab.research.google.com/notebooks/data_table.ipynb>data table notebook</a>'\n",
              "            + ' to learn more about interactive tables.';\n",
              "          element.innerHTML = '';\n",
              "          dataTable['output_type'] = 'display_data';\n",
              "          await google.colab.output.renderOutput(dataTable, element);\n",
              "          const docLink = document.createElement('div');\n",
              "          docLink.innerHTML = docLinkHtml;\n",
              "          element.appendChild(docLink);\n",
              "        }\n",
              "      </script>\n",
              "    </div>\n",
              "  </div>\n",
              "  "
            ]
          },
          "metadata": {},
          "execution_count": 3
        }
      ]
    },
    {
      "cell_type": "code",
      "source": [
        "len(housing)"
      ],
      "metadata": {
        "colab": {
          "base_uri": "https://localhost:8080/"
        },
        "id": "YMpcPKZkn3Wz",
        "outputId": "637a66d0-e734-4656-adeb-1a16666a0e42"
      },
      "execution_count": null,
      "outputs": [
        {
          "output_type": "execute_result",
          "data": {
            "text/plain": [
              "20640"
            ]
          },
          "metadata": {},
          "execution_count": 4
        }
      ]
    },
    {
      "cell_type": "code",
      "source": [
        "housing.info()"
      ],
      "metadata": {
        "colab": {
          "base_uri": "https://localhost:8080/"
        },
        "id": "qEtHz31yn_tz",
        "outputId": "da6a8cdb-1788-4985-e164-6eb0819c92a5"
      },
      "execution_count": null,
      "outputs": [
        {
          "output_type": "stream",
          "name": "stdout",
          "text": [
            "<class 'pandas.core.frame.DataFrame'>\n",
            "RangeIndex: 20640 entries, 0 to 20639\n",
            "Data columns (total 10 columns):\n",
            " #   Column              Non-Null Count  Dtype  \n",
            "---  ------              --------------  -----  \n",
            " 0   longitude           20640 non-null  float64\n",
            " 1   latitude            20640 non-null  float64\n",
            " 2   housing_median_age  20640 non-null  float64\n",
            " 3   total_rooms         20640 non-null  float64\n",
            " 4   total_bedrooms      20433 non-null  float64\n",
            " 5   population          20640 non-null  float64\n",
            " 6   households          20640 non-null  float64\n",
            " 7   median_income       20640 non-null  float64\n",
            " 8   median_house_value  20640 non-null  float64\n",
            " 9   ocean_proximity     20640 non-null  object \n",
            "dtypes: float64(9), object(1)\n",
            "memory usage: 1.6+ MB\n"
          ]
        }
      ]
    },
    {
      "cell_type": "code",
      "source": [
        "housing = housing.drop(columns=['longitude','latitude'])\n",
        "housing.head()"
      ],
      "metadata": {
        "colab": {
          "base_uri": "https://localhost:8080/",
          "height": 206
        },
        "id": "kzfxQ2okoOWb",
        "outputId": "e00daa8d-953e-4a1a-c475-fe6c9eabeba5"
      },
      "execution_count": null,
      "outputs": [
        {
          "output_type": "execute_result",
          "data": {
            "text/plain": [
              "   housing_median_age  total_rooms  total_bedrooms  population  households  \\\n",
              "0                41.0        880.0           129.0       322.0       126.0   \n",
              "1                21.0       7099.0          1106.0      2401.0      1138.0   \n",
              "2                52.0       1467.0           190.0       496.0       177.0   \n",
              "3                52.0       1274.0           235.0       558.0       219.0   \n",
              "4                52.0       1627.0           280.0       565.0       259.0   \n",
              "\n",
              "   median_income  median_house_value ocean_proximity  \n",
              "0         8.3252            452600.0        NEAR BAY  \n",
              "1         8.3014            358500.0        NEAR BAY  \n",
              "2         7.2574            352100.0        NEAR BAY  \n",
              "3         5.6431            341300.0        NEAR BAY  \n",
              "4         3.8462            342200.0        NEAR BAY  "
            ],
            "text/html": [
              "\n",
              "  <div id=\"df-06be8cd9-39b2-4e68-bfa6-dcd3ef10f029\">\n",
              "    <div class=\"colab-df-container\">\n",
              "      <div>\n",
              "<style scoped>\n",
              "    .dataframe tbody tr th:only-of-type {\n",
              "        vertical-align: middle;\n",
              "    }\n",
              "\n",
              "    .dataframe tbody tr th {\n",
              "        vertical-align: top;\n",
              "    }\n",
              "\n",
              "    .dataframe thead th {\n",
              "        text-align: right;\n",
              "    }\n",
              "</style>\n",
              "<table border=\"1\" class=\"dataframe\">\n",
              "  <thead>\n",
              "    <tr style=\"text-align: right;\">\n",
              "      <th></th>\n",
              "      <th>housing_median_age</th>\n",
              "      <th>total_rooms</th>\n",
              "      <th>total_bedrooms</th>\n",
              "      <th>population</th>\n",
              "      <th>households</th>\n",
              "      <th>median_income</th>\n",
              "      <th>median_house_value</th>\n",
              "      <th>ocean_proximity</th>\n",
              "    </tr>\n",
              "  </thead>\n",
              "  <tbody>\n",
              "    <tr>\n",
              "      <th>0</th>\n",
              "      <td>41.0</td>\n",
              "      <td>880.0</td>\n",
              "      <td>129.0</td>\n",
              "      <td>322.0</td>\n",
              "      <td>126.0</td>\n",
              "      <td>8.3252</td>\n",
              "      <td>452600.0</td>\n",
              "      <td>NEAR BAY</td>\n",
              "    </tr>\n",
              "    <tr>\n",
              "      <th>1</th>\n",
              "      <td>21.0</td>\n",
              "      <td>7099.0</td>\n",
              "      <td>1106.0</td>\n",
              "      <td>2401.0</td>\n",
              "      <td>1138.0</td>\n",
              "      <td>8.3014</td>\n",
              "      <td>358500.0</td>\n",
              "      <td>NEAR BAY</td>\n",
              "    </tr>\n",
              "    <tr>\n",
              "      <th>2</th>\n",
              "      <td>52.0</td>\n",
              "      <td>1467.0</td>\n",
              "      <td>190.0</td>\n",
              "      <td>496.0</td>\n",
              "      <td>177.0</td>\n",
              "      <td>7.2574</td>\n",
              "      <td>352100.0</td>\n",
              "      <td>NEAR BAY</td>\n",
              "    </tr>\n",
              "    <tr>\n",
              "      <th>3</th>\n",
              "      <td>52.0</td>\n",
              "      <td>1274.0</td>\n",
              "      <td>235.0</td>\n",
              "      <td>558.0</td>\n",
              "      <td>219.0</td>\n",
              "      <td>5.6431</td>\n",
              "      <td>341300.0</td>\n",
              "      <td>NEAR BAY</td>\n",
              "    </tr>\n",
              "    <tr>\n",
              "      <th>4</th>\n",
              "      <td>52.0</td>\n",
              "      <td>1627.0</td>\n",
              "      <td>280.0</td>\n",
              "      <td>565.0</td>\n",
              "      <td>259.0</td>\n",
              "      <td>3.8462</td>\n",
              "      <td>342200.0</td>\n",
              "      <td>NEAR BAY</td>\n",
              "    </tr>\n",
              "  </tbody>\n",
              "</table>\n",
              "</div>\n",
              "      <button class=\"colab-df-convert\" onclick=\"convertToInteractive('df-06be8cd9-39b2-4e68-bfa6-dcd3ef10f029')\"\n",
              "              title=\"Convert this dataframe to an interactive table.\"\n",
              "              style=\"display:none;\">\n",
              "        \n",
              "  <svg xmlns=\"http://www.w3.org/2000/svg\" height=\"24px\"viewBox=\"0 0 24 24\"\n",
              "       width=\"24px\">\n",
              "    <path d=\"M0 0h24v24H0V0z\" fill=\"none\"/>\n",
              "    <path d=\"M18.56 5.44l.94 2.06.94-2.06 2.06-.94-2.06-.94-.94-2.06-.94 2.06-2.06.94zm-11 1L8.5 8.5l.94-2.06 2.06-.94-2.06-.94L8.5 2.5l-.94 2.06-2.06.94zm10 10l.94 2.06.94-2.06 2.06-.94-2.06-.94-.94-2.06-.94 2.06-2.06.94z\"/><path d=\"M17.41 7.96l-1.37-1.37c-.4-.4-.92-.59-1.43-.59-.52 0-1.04.2-1.43.59L10.3 9.45l-7.72 7.72c-.78.78-.78 2.05 0 2.83L4 21.41c.39.39.9.59 1.41.59.51 0 1.02-.2 1.41-.59l7.78-7.78 2.81-2.81c.8-.78.8-2.07 0-2.86zM5.41 20L4 18.59l7.72-7.72 1.47 1.35L5.41 20z\"/>\n",
              "  </svg>\n",
              "      </button>\n",
              "      \n",
              "  <style>\n",
              "    .colab-df-container {\n",
              "      display:flex;\n",
              "      flex-wrap:wrap;\n",
              "      gap: 12px;\n",
              "    }\n",
              "\n",
              "    .colab-df-convert {\n",
              "      background-color: #E8F0FE;\n",
              "      border: none;\n",
              "      border-radius: 50%;\n",
              "      cursor: pointer;\n",
              "      display: none;\n",
              "      fill: #1967D2;\n",
              "      height: 32px;\n",
              "      padding: 0 0 0 0;\n",
              "      width: 32px;\n",
              "    }\n",
              "\n",
              "    .colab-df-convert:hover {\n",
              "      background-color: #E2EBFA;\n",
              "      box-shadow: 0px 1px 2px rgba(60, 64, 67, 0.3), 0px 1px 3px 1px rgba(60, 64, 67, 0.15);\n",
              "      fill: #174EA6;\n",
              "    }\n",
              "\n",
              "    [theme=dark] .colab-df-convert {\n",
              "      background-color: #3B4455;\n",
              "      fill: #D2E3FC;\n",
              "    }\n",
              "\n",
              "    [theme=dark] .colab-df-convert:hover {\n",
              "      background-color: #434B5C;\n",
              "      box-shadow: 0px 1px 3px 1px rgba(0, 0, 0, 0.15);\n",
              "      filter: drop-shadow(0px 1px 2px rgba(0, 0, 0, 0.3));\n",
              "      fill: #FFFFFF;\n",
              "    }\n",
              "  </style>\n",
              "\n",
              "      <script>\n",
              "        const buttonEl =\n",
              "          document.querySelector('#df-06be8cd9-39b2-4e68-bfa6-dcd3ef10f029 button.colab-df-convert');\n",
              "        buttonEl.style.display =\n",
              "          google.colab.kernel.accessAllowed ? 'block' : 'none';\n",
              "\n",
              "        async function convertToInteractive(key) {\n",
              "          const element = document.querySelector('#df-06be8cd9-39b2-4e68-bfa6-dcd3ef10f029');\n",
              "          const dataTable =\n",
              "            await google.colab.kernel.invokeFunction('convertToInteractive',\n",
              "                                                     [key], {});\n",
              "          if (!dataTable) return;\n",
              "\n",
              "          const docLinkHtml = 'Like what you see? Visit the ' +\n",
              "            '<a target=\"_blank\" href=https://colab.research.google.com/notebooks/data_table.ipynb>data table notebook</a>'\n",
              "            + ' to learn more about interactive tables.';\n",
              "          element.innerHTML = '';\n",
              "          dataTable['output_type'] = 'display_data';\n",
              "          await google.colab.output.renderOutput(dataTable, element);\n",
              "          const docLink = document.createElement('div');\n",
              "          docLink.innerHTML = docLinkHtml;\n",
              "          element.appendChild(docLink);\n",
              "        }\n",
              "      </script>\n",
              "    </div>\n",
              "  </div>\n",
              "  "
            ]
          },
          "metadata": {},
          "execution_count": 6
        }
      ]
    },
    {
      "cell_type": "code",
      "source": [
        "housing['ocean_proximity'].value_counts()"
      ],
      "metadata": {
        "colab": {
          "base_uri": "https://localhost:8080/"
        },
        "id": "TEon2ACCoXS7",
        "outputId": "e0a595d1-e222-49ac-d0b4-d17b73611936"
      },
      "execution_count": null,
      "outputs": [
        {
          "output_type": "execute_result",
          "data": {
            "text/plain": [
              "<1H OCEAN     9136\n",
              "INLAND        6551\n",
              "NEAR OCEAN    2658\n",
              "NEAR BAY      2290\n",
              "ISLAND           5\n",
              "Name: ocean_proximity, dtype: int64"
            ]
          },
          "metadata": {},
          "execution_count": 7
        }
      ]
    },
    {
      "cell_type": "code",
      "source": [
        "housing.isnull().values.any()"
      ],
      "metadata": {
        "colab": {
          "base_uri": "https://localhost:8080/"
        },
        "id": "iQraBkKEoeNr",
        "outputId": "a243f78e-5229-461d-a220-09a1040357e2"
      },
      "execution_count": null,
      "outputs": [
        {
          "output_type": "execute_result",
          "data": {
            "text/plain": [
              "True"
            ]
          },
          "metadata": {},
          "execution_count": 8
        }
      ]
    },
    {
      "cell_type": "markdown",
      "source": [
        "This means there are some null values in total_bedrooms"
      ],
      "metadata": {
        "id": "Y65e8K59o-ws"
      }
    },
    {
      "cell_type": "code",
      "source": [
        "housing.describe()"
      ],
      "metadata": {
        "colab": {
          "base_uri": "https://localhost:8080/",
          "height": 300
        },
        "id": "CMvx5ptqojXL",
        "outputId": "94a4bce0-b0e2-4f18-d74c-2d209bbe0323"
      },
      "execution_count": null,
      "outputs": [
        {
          "output_type": "execute_result",
          "data": {
            "text/plain": [
              "       housing_median_age   total_rooms  total_bedrooms    population  \\\n",
              "count        20640.000000  20640.000000    20433.000000  20640.000000   \n",
              "mean            28.639486   2635.763081      537.870553   1425.476744   \n",
              "std             12.585558   2181.615252      421.385070   1132.462122   \n",
              "min              1.000000      2.000000        1.000000      3.000000   \n",
              "25%             18.000000   1447.750000      296.000000    787.000000   \n",
              "50%             29.000000   2127.000000      435.000000   1166.000000   \n",
              "75%             37.000000   3148.000000      647.000000   1725.000000   \n",
              "max             52.000000  39320.000000     6445.000000  35682.000000   \n",
              "\n",
              "         households  median_income  median_house_value  \n",
              "count  20640.000000   20640.000000        20640.000000  \n",
              "mean     499.539680       3.870671       206855.816909  \n",
              "std      382.329753       1.899822       115395.615874  \n",
              "min        1.000000       0.499900        14999.000000  \n",
              "25%      280.000000       2.563400       119600.000000  \n",
              "50%      409.000000       3.534800       179700.000000  \n",
              "75%      605.000000       4.743250       264725.000000  \n",
              "max     6082.000000      15.000100       500001.000000  "
            ],
            "text/html": [
              "\n",
              "  <div id=\"df-f2a0c1f2-acf3-4874-b448-532a17819fec\">\n",
              "    <div class=\"colab-df-container\">\n",
              "      <div>\n",
              "<style scoped>\n",
              "    .dataframe tbody tr th:only-of-type {\n",
              "        vertical-align: middle;\n",
              "    }\n",
              "\n",
              "    .dataframe tbody tr th {\n",
              "        vertical-align: top;\n",
              "    }\n",
              "\n",
              "    .dataframe thead th {\n",
              "        text-align: right;\n",
              "    }\n",
              "</style>\n",
              "<table border=\"1\" class=\"dataframe\">\n",
              "  <thead>\n",
              "    <tr style=\"text-align: right;\">\n",
              "      <th></th>\n",
              "      <th>housing_median_age</th>\n",
              "      <th>total_rooms</th>\n",
              "      <th>total_bedrooms</th>\n",
              "      <th>population</th>\n",
              "      <th>households</th>\n",
              "      <th>median_income</th>\n",
              "      <th>median_house_value</th>\n",
              "    </tr>\n",
              "  </thead>\n",
              "  <tbody>\n",
              "    <tr>\n",
              "      <th>count</th>\n",
              "      <td>20640.000000</td>\n",
              "      <td>20640.000000</td>\n",
              "      <td>20433.000000</td>\n",
              "      <td>20640.000000</td>\n",
              "      <td>20640.000000</td>\n",
              "      <td>20640.000000</td>\n",
              "      <td>20640.000000</td>\n",
              "    </tr>\n",
              "    <tr>\n",
              "      <th>mean</th>\n",
              "      <td>28.639486</td>\n",
              "      <td>2635.763081</td>\n",
              "      <td>537.870553</td>\n",
              "      <td>1425.476744</td>\n",
              "      <td>499.539680</td>\n",
              "      <td>3.870671</td>\n",
              "      <td>206855.816909</td>\n",
              "    </tr>\n",
              "    <tr>\n",
              "      <th>std</th>\n",
              "      <td>12.585558</td>\n",
              "      <td>2181.615252</td>\n",
              "      <td>421.385070</td>\n",
              "      <td>1132.462122</td>\n",
              "      <td>382.329753</td>\n",
              "      <td>1.899822</td>\n",
              "      <td>115395.615874</td>\n",
              "    </tr>\n",
              "    <tr>\n",
              "      <th>min</th>\n",
              "      <td>1.000000</td>\n",
              "      <td>2.000000</td>\n",
              "      <td>1.000000</td>\n",
              "      <td>3.000000</td>\n",
              "      <td>1.000000</td>\n",
              "      <td>0.499900</td>\n",
              "      <td>14999.000000</td>\n",
              "    </tr>\n",
              "    <tr>\n",
              "      <th>25%</th>\n",
              "      <td>18.000000</td>\n",
              "      <td>1447.750000</td>\n",
              "      <td>296.000000</td>\n",
              "      <td>787.000000</td>\n",
              "      <td>280.000000</td>\n",
              "      <td>2.563400</td>\n",
              "      <td>119600.000000</td>\n",
              "    </tr>\n",
              "    <tr>\n",
              "      <th>50%</th>\n",
              "      <td>29.000000</td>\n",
              "      <td>2127.000000</td>\n",
              "      <td>435.000000</td>\n",
              "      <td>1166.000000</td>\n",
              "      <td>409.000000</td>\n",
              "      <td>3.534800</td>\n",
              "      <td>179700.000000</td>\n",
              "    </tr>\n",
              "    <tr>\n",
              "      <th>75%</th>\n",
              "      <td>37.000000</td>\n",
              "      <td>3148.000000</td>\n",
              "      <td>647.000000</td>\n",
              "      <td>1725.000000</td>\n",
              "      <td>605.000000</td>\n",
              "      <td>4.743250</td>\n",
              "      <td>264725.000000</td>\n",
              "    </tr>\n",
              "    <tr>\n",
              "      <th>max</th>\n",
              "      <td>52.000000</td>\n",
              "      <td>39320.000000</td>\n",
              "      <td>6445.000000</td>\n",
              "      <td>35682.000000</td>\n",
              "      <td>6082.000000</td>\n",
              "      <td>15.000100</td>\n",
              "      <td>500001.000000</td>\n",
              "    </tr>\n",
              "  </tbody>\n",
              "</table>\n",
              "</div>\n",
              "      <button class=\"colab-df-convert\" onclick=\"convertToInteractive('df-f2a0c1f2-acf3-4874-b448-532a17819fec')\"\n",
              "              title=\"Convert this dataframe to an interactive table.\"\n",
              "              style=\"display:none;\">\n",
              "        \n",
              "  <svg xmlns=\"http://www.w3.org/2000/svg\" height=\"24px\"viewBox=\"0 0 24 24\"\n",
              "       width=\"24px\">\n",
              "    <path d=\"M0 0h24v24H0V0z\" fill=\"none\"/>\n",
              "    <path d=\"M18.56 5.44l.94 2.06.94-2.06 2.06-.94-2.06-.94-.94-2.06-.94 2.06-2.06.94zm-11 1L8.5 8.5l.94-2.06 2.06-.94-2.06-.94L8.5 2.5l-.94 2.06-2.06.94zm10 10l.94 2.06.94-2.06 2.06-.94-2.06-.94-.94-2.06-.94 2.06-2.06.94z\"/><path d=\"M17.41 7.96l-1.37-1.37c-.4-.4-.92-.59-1.43-.59-.52 0-1.04.2-1.43.59L10.3 9.45l-7.72 7.72c-.78.78-.78 2.05 0 2.83L4 21.41c.39.39.9.59 1.41.59.51 0 1.02-.2 1.41-.59l7.78-7.78 2.81-2.81c.8-.78.8-2.07 0-2.86zM5.41 20L4 18.59l7.72-7.72 1.47 1.35L5.41 20z\"/>\n",
              "  </svg>\n",
              "      </button>\n",
              "      \n",
              "  <style>\n",
              "    .colab-df-container {\n",
              "      display:flex;\n",
              "      flex-wrap:wrap;\n",
              "      gap: 12px;\n",
              "    }\n",
              "\n",
              "    .colab-df-convert {\n",
              "      background-color: #E8F0FE;\n",
              "      border: none;\n",
              "      border-radius: 50%;\n",
              "      cursor: pointer;\n",
              "      display: none;\n",
              "      fill: #1967D2;\n",
              "      height: 32px;\n",
              "      padding: 0 0 0 0;\n",
              "      width: 32px;\n",
              "    }\n",
              "\n",
              "    .colab-df-convert:hover {\n",
              "      background-color: #E2EBFA;\n",
              "      box-shadow: 0px 1px 2px rgba(60, 64, 67, 0.3), 0px 1px 3px 1px rgba(60, 64, 67, 0.15);\n",
              "      fill: #174EA6;\n",
              "    }\n",
              "\n",
              "    [theme=dark] .colab-df-convert {\n",
              "      background-color: #3B4455;\n",
              "      fill: #D2E3FC;\n",
              "    }\n",
              "\n",
              "    [theme=dark] .colab-df-convert:hover {\n",
              "      background-color: #434B5C;\n",
              "      box-shadow: 0px 1px 3px 1px rgba(0, 0, 0, 0.15);\n",
              "      filter: drop-shadow(0px 1px 2px rgba(0, 0, 0, 0.3));\n",
              "      fill: #FFFFFF;\n",
              "    }\n",
              "  </style>\n",
              "\n",
              "      <script>\n",
              "        const buttonEl =\n",
              "          document.querySelector('#df-f2a0c1f2-acf3-4874-b448-532a17819fec button.colab-df-convert');\n",
              "        buttonEl.style.display =\n",
              "          google.colab.kernel.accessAllowed ? 'block' : 'none';\n",
              "\n",
              "        async function convertToInteractive(key) {\n",
              "          const element = document.querySelector('#df-f2a0c1f2-acf3-4874-b448-532a17819fec');\n",
              "          const dataTable =\n",
              "            await google.colab.kernel.invokeFunction('convertToInteractive',\n",
              "                                                     [key], {});\n",
              "          if (!dataTable) return;\n",
              "\n",
              "          const docLinkHtml = 'Like what you see? Visit the ' +\n",
              "            '<a target=\"_blank\" href=https://colab.research.google.com/notebooks/data_table.ipynb>data table notebook</a>'\n",
              "            + ' to learn more about interactive tables.';\n",
              "          element.innerHTML = '';\n",
              "          dataTable['output_type'] = 'display_data';\n",
              "          await google.colab.output.renderOutput(dataTable, element);\n",
              "          const docLink = document.createElement('div');\n",
              "          docLink.innerHTML = docLinkHtml;\n",
              "          element.appendChild(docLink);\n",
              "        }\n",
              "      </script>\n",
              "    </div>\n",
              "  </div>\n",
              "  "
            ]
          },
          "metadata": {},
          "execution_count": 9
        }
      ]
    },
    {
      "cell_type": "code",
      "source": [
        "housing['ocean_proximity'].isnull().value_counts()"
      ],
      "metadata": {
        "colab": {
          "base_uri": "https://localhost:8080/"
        },
        "id": "HWTrNJApo2AD",
        "outputId": "703e42f0-88c2-4753-c301-70ebe90f05f6"
      },
      "execution_count": null,
      "outputs": [
        {
          "output_type": "execute_result",
          "data": {
            "text/plain": [
              "False    20640\n",
              "Name: ocean_proximity, dtype: int64"
            ]
          },
          "metadata": {},
          "execution_count": 10
        }
      ]
    },
    {
      "cell_type": "code",
      "source": [
        "housing.hist(bins=50,figsize=(10,7))"
      ],
      "metadata": {
        "colab": {
          "base_uri": "https://localhost:8080/",
          "height": 761
        },
        "id": "L3oRwOs3pNmr",
        "outputId": "7a28333c-8553-462c-e3bf-feec3204fc0a"
      },
      "execution_count": null,
      "outputs": [
        {
          "output_type": "execute_result",
          "data": {
            "text/plain": [
              "array([[<Axes: title={'center': 'housing_median_age'}>,\n",
              "        <Axes: title={'center': 'total_rooms'}>,\n",
              "        <Axes: title={'center': 'total_bedrooms'}>],\n",
              "       [<Axes: title={'center': 'population'}>,\n",
              "        <Axes: title={'center': 'households'}>,\n",
              "        <Axes: title={'center': 'median_income'}>],\n",
              "       [<Axes: title={'center': 'median_house_value'}>, <Axes: >,\n",
              "        <Axes: >]], dtype=object)"
            ]
          },
          "metadata": {},
          "execution_count": 11
        },
        {
          "output_type": "display_data",
          "data": {
            "text/plain": [
              "<Figure size 1000x700 with 9 Axes>"
            ],
            "image/png": "[encoded data removed]"
          },
          "metadata": {}
        }
      ]
    },
    {
      "cell_type": "code",
      "source": [
        "corr = housing.corr()\n",
        "corr['median_house_value'].sort_values(ascending=False)"
      ],
      "metadata": {
        "colab": {
          "base_uri": "https://localhost:8080/"
        },
        "id": "I8fQeWADpudr",
        "outputId": "45a6d2ec-2533-4616-eaa5-3c71b6792436"
      },
      "execution_count": null,
      "outputs": [
        {
          "output_type": "stream",
          "name": "stderr",
          "text": [
            "<ipython-input-12-7fbc5a5514e8>:1: FutureWarning: The default value of numeric_only in DataFrame.corr is deprecated. In a future version, it will default to False. Select only valid columns or specify the value of numeric_only to silence this warning.\n",
            "  corr = housing.corr()\n"
          ]
        },
        {
          "output_type": "execute_result",
          "data": {
            "text/plain": [
              "median_house_value    1.000000\n",
              "median_income         0.688075\n",
              "total_rooms           0.134153\n",
              "housing_median_age    0.105623\n",
              "households            0.065843\n",
              "total_bedrooms        0.049686\n",
              "population           -0.024650\n",
              "Name: median_house_value, dtype: float64"
            ]
          },
          "metadata": {},
          "execution_count": 12
        }
      ]
    },
    {
      "cell_type": "code",
      "source": [
        "housing.plot(kind='scatter', x='median_income',y = 'median_house_value', alpha=.1)"
      ],
      "metadata": {
        "colab": {
          "base_uri": "https://localhost:8080/",
          "height": 467
        },
        "id": "w9HDQ0XprV6i",
        "outputId": "2bf476ca-bb9a-4e47-a0a0-8c5de7b53d88"
      },
      "execution_count": null,
      "outputs": [
        {
          "output_type": "execute_result",
          "data": {
            "text/plain": [
              "<Axes: xlabel='median_income', ylabel='median_house_value'>"
            ]
          },
          "metadata": {},
          "execution_count": 13
        },
        {
          "output_type": "display_data",
          "data": {
            "text/plain": [
              "<Figure size 640x480 with 1 Axes>"
            ],
            "image/png": "[encoded data removed]"
          },
          "metadata": {}
        }
      ]
    },
    {
      "cell_type": "code",
      "source": [
        "housing.head()"
      ],
      "metadata": {
        "colab": {
          "base_uri": "https://localhost:8080/",
          "height": 206
        },
        "id": "VLgGzZ2frvzq",
        "outputId": "2df469b2-93ce-4834-bf7f-9c99059e3942"
      },
      "execution_count": null,
      "outputs": [
        {
          "output_type": "execute_result",
          "data": {
            "text/plain": [
              "   housing_median_age  total_rooms  total_bedrooms  population  households  \\\n",
              "0                41.0        880.0           129.0       322.0       126.0   \n",
              "1                21.0       7099.0          1106.0      2401.0      1138.0   \n",
              "2                52.0       1467.0           190.0       496.0       177.0   \n",
              "3                52.0       1274.0           235.0       558.0       219.0   \n",
              "4                52.0       1627.0           280.0       565.0       259.0   \n",
              "\n",
              "   median_income  median_house_value ocean_proximity  \n",
              "0         8.3252            452600.0        NEAR BAY  \n",
              "1         8.3014            358500.0        NEAR BAY  \n",
              "2         7.2574            352100.0        NEAR BAY  \n",
              "3         5.6431            341300.0        NEAR BAY  \n",
              "4         3.8462            342200.0        NEAR BAY  "
            ],
            "text/html": [
              "\n",
              "  <div id=\"df-bb9282e4-39ee-4c62-a89e-cad93af2c615\">\n",
              "    <div class=\"colab-df-container\">\n",
              "      <div>\n",
              "<style scoped>\n",
              "    .dataframe tbody tr th:only-of-type {\n",
              "        vertical-align: middle;\n",
              "    }\n",
              "\n",
              "    .dataframe tbody tr th {\n",
              "        vertical-align: top;\n",
              "    }\n",
              "\n",
              "    .dataframe thead th {\n",
              "        text-align: right;\n",
              "    }\n",
              "</style>\n",
              "<table border=\"1\" class=\"dataframe\">\n",
              "  <thead>\n",
              "    <tr style=\"text-align: right;\">\n",
              "      <th></th>\n",
              "      <th>housing_median_age</th>\n",
              "      <th>total_rooms</th>\n",
              "      <th>total_bedrooms</th>\n",
              "      <th>population</th>\n",
              "      <th>households</th>\n",
              "      <th>median_income</th>\n",
              "      <th>median_house_value</th>\n",
              "      <th>ocean_proximity</th>\n",
              "    </tr>\n",
              "  </thead>\n",
              "  <tbody>\n",
              "    <tr>\n",
              "      <th>0</th>\n",
              "      <td>41.0</td>\n",
              "      <td>880.0</td>\n",
              "      <td>129.0</td>\n",
              "      <td>322.0</td>\n",
              "      <td>126.0</td>\n",
              "      <td>8.3252</td>\n",
              "      <td>452600.0</td>\n",
              "      <td>NEAR BAY</td>\n",
              "    </tr>\n",
              "    <tr>\n",
              "      <th>1</th>\n",
              "      <td>21.0</td>\n",
              "      <td>7099.0</td>\n",
              "      <td>1106.0</td>\n",
              "      <td>2401.0</td>\n",
              "      <td>1138.0</td>\n",
              "      <td>8.3014</td>\n",
              "      <td>358500.0</td>\n",
              "      <td>NEAR BAY</td>\n",
              "    </tr>\n",
              "    <tr>\n",
              "      <th>2</th>\n",
              "      <td>52.0</td>\n",
              "      <td>1467.0</td>\n",
              "      <td>190.0</td>\n",
              "      <td>496.0</td>\n",
              "      <td>177.0</td>\n",
              "      <td>7.2574</td>\n",
              "      <td>352100.0</td>\n",
              "      <td>NEAR BAY</td>\n",
              "    </tr>\n",
              "    <tr>\n",
              "      <th>3</th>\n",
              "      <td>52.0</td>\n",
              "      <td>1274.0</td>\n",
              "      <td>235.0</td>\n",
              "      <td>558.0</td>\n",
              "      <td>219.0</td>\n",
              "      <td>5.6431</td>\n",
              "      <td>341300.0</td>\n",
              "      <td>NEAR BAY</td>\n",
              "    </tr>\n",
              "    <tr>\n",
              "      <th>4</th>\n",
              "      <td>52.0</td>\n",
              "      <td>1627.0</td>\n",
              "      <td>280.0</td>\n",
              "      <td>565.0</td>\n",
              "      <td>259.0</td>\n",
              "      <td>3.8462</td>\n",
              "      <td>342200.0</td>\n",
              "      <td>NEAR BAY</td>\n",
              "    </tr>\n",
              "  </tbody>\n",
              "</table>\n",
              "</div>\n",
              "      <button class=\"colab-df-convert\" onclick=\"convertToInteractive('df-bb9282e4-39ee-4c62-a89e-cad93af2c615')\"\n",
              "              title=\"Convert this dataframe to an interactive table.\"\n",
              "              style=\"display:none;\">\n",
              "        \n",
              "  <svg xmlns=\"http://www.w3.org/2000/svg\" height=\"24px\"viewBox=\"0 0 24 24\"\n",
              "       width=\"24px\">\n",
              "    <path d=\"M0 0h24v24H0V0z\" fill=\"none\"/>\n",
              "    <path d=\"M18.56 5.44l.94 2.06.94-2.06 2.06-.94-2.06-.94-.94-2.06-.94 2.06-2.06.94zm-11 1L8.5 8.5l.94-2.06 2.06-.94-2.06-.94L8.5 2.5l-.94 2.06-2.06.94zm10 10l.94 2.06.94-2.06 2.06-.94-2.06-.94-.94-2.06-.94 2.06-2.06.94z\"/><path d=\"M17.41 7.96l-1.37-1.37c-.4-.4-.92-.59-1.43-.59-.52 0-1.04.2-1.43.59L10.3 9.45l-7.72 7.72c-.78.78-.78 2.05 0 2.83L4 21.41c.39.39.9.59 1.41.59.51 0 1.02-.2 1.41-.59l7.78-7.78 2.81-2.81c.8-.78.8-2.07 0-2.86zM5.41 20L4 18.59l7.72-7.72 1.47 1.35L5.41 20z\"/>\n",
              "  </svg>\n",
              "      </button>\n",
              "      \n",
              "  <style>\n",
              "    .colab-df-container {\n",
              "      display:flex;\n",
              "      flex-wrap:wrap;\n",
              "      gap: 12px;\n",
              "    }\n",
              "\n",
              "    .colab-df-convert {\n",
              "      background-color: #E8F0FE;\n",
              "      border: none;\n",
              "      border-radius: 50%;\n",
              "      cursor: pointer;\n",
              "      display: none;\n",
              "      fill: #1967D2;\n",
              "      height: 32px;\n",
              "      padding: 0 0 0 0;\n",
              "      width: 32px;\n",
              "    }\n",
              "\n",
              "    .colab-df-convert:hover {\n",
              "      background-color: #E2EBFA;\n",
              "      box-shadow: 0px 1px 2px rgba(60, 64, 67, 0.3), 0px 1px 3px 1px rgba(60, 64, 67, 0.15);\n",
              "      fill: #174EA6;\n",
              "    }\n",
              "\n",
              "    [theme=dark] .colab-df-convert {\n",
              "      background-color: #3B4455;\n",
              "      fill: #D2E3FC;\n",
              "    }\n",
              "\n",
              "    [theme=dark] .colab-df-convert:hover {\n",
              "      background-color: #434B5C;\n",
              "      box-shadow: 0px 1px 3px 1px rgba(0, 0, 0, 0.15);\n",
              "      filter: drop-shadow(0px 1px 2px rgba(0, 0, 0, 0.3));\n",
              "      fill: #FFFFFF;\n",
              "    }\n",
              "  </style>\n",
              "\n",
              "      <script>\n",
              "        const buttonEl =\n",
              "          document.querySelector('#df-bb9282e4-39ee-4c62-a89e-cad93af2c615 button.colab-df-convert');\n",
              "        buttonEl.style.display =\n",
              "          google.colab.kernel.accessAllowed ? 'block' : 'none';\n",
              "\n",
              "        async function convertToInteractive(key) {\n",
              "          const element = document.querySelector('#df-bb9282e4-39ee-4c62-a89e-cad93af2c615');\n",
              "          const dataTable =\n",
              "            await google.colab.kernel.invokeFunction('convertToInteractive',\n",
              "                                                     [key], {});\n",
              "          if (!dataTable) return;\n",
              "\n",
              "          const docLinkHtml = 'Like what you see? Visit the ' +\n",
              "            '<a target=\"_blank\" href=https://colab.research.google.com/notebooks/data_table.ipynb>data table notebook</a>'\n",
              "            + ' to learn more about interactive tables.';\n",
              "          element.innerHTML = '';\n",
              "          dataTable['output_type'] = 'display_data';\n",
              "          await google.colab.output.renderOutput(dataTable, element);\n",
              "          const docLink = document.createElement('div');\n",
              "          docLink.innerHTML = docLinkHtml;\n",
              "          element.appendChild(docLink);\n",
              "        }\n",
              "      </script>\n",
              "    </div>\n",
              "  </div>\n",
              "  "
            ]
          },
          "metadata": {},
          "execution_count": 14
        }
      ]
    },
    {
      "cell_type": "code",
      "source": [
        "housing['rooms_per_house'] = housing['total_rooms']/housing['households']\n",
        "housing['bedrooms_per_room'] = housing['total_bedrooms']/housing['total_rooms']\n",
        "housing['people_per_house'] = housing['population']/housing['households']\n",
        "housing['bedrooms_per_house'] = housing['total_bedrooms']/housing['households']"
      ],
      "metadata": {
        "id": "TcX13fHPr7Gy"
      },
      "execution_count": null,
      "outputs": []
    },
    {
      "cell_type": "code",
      "source": [
        "housing.head()"
      ],
      "metadata": {
        "colab": {
          "base_uri": "https://localhost:8080/",
          "height": 206
        },
        "id": "zxvIe89bslFS",
        "outputId": "28e0868f-0b7f-4a6f-ad2b-3639f61c2d0c"
      },
      "execution_count": null,
      "outputs": [
        {
          "output_type": "execute_result",
          "data": {
            "text/plain": [
              "   housing_median_age  total_rooms  total_bedrooms  population  households  \\\n",
              "0                41.0        880.0           129.0       322.0       126.0   \n",
              "1                21.0       7099.0          1106.0      2401.0      1138.0   \n",
              "2                52.0       1467.0           190.0       496.0       177.0   \n",
              "3                52.0       1274.0           235.0       558.0       219.0   \n",
              "4                52.0       1627.0           280.0       565.0       259.0   \n",
              "\n",
              "   median_income  median_house_value ocean_proximity  rooms_per_house  \\\n",
              "0         8.3252            452600.0        NEAR BAY         6.984127   \n",
              "1         8.3014            358500.0        NEAR BAY         6.238137   \n",
              "2         7.2574            352100.0        NEAR BAY         8.288136   \n",
              "3         5.6431            341300.0        NEAR BAY         5.817352   \n",
              "4         3.8462            342200.0        NEAR BAY         6.281853   \n",
              "\n",
              "   bedrooms_per_room  people_per_house  bedrooms_per_house  \n",
              "0           0.146591          2.555556            1.023810  \n",
              "1           0.155797          2.109842            0.971880  \n",
              "2           0.129516          2.802260            1.073446  \n",
              "3           0.184458          2.547945            1.073059  \n",
              "4           0.172096          2.181467            1.081081  "
            ],
            "text/html": [
              "\n",
              "  <div id=\"df-3ad0daf9-103b-4752-a17e-0565846b3831\">\n",
              "    <div class=\"colab-df-container\">\n",
              "      <div>\n",
              "<style scoped>\n",
              "    .dataframe tbody tr th:only-of-type {\n",
              "        vertical-align: middle;\n",
              "    }\n",
              "\n",
              "    .dataframe tbody tr th {\n",
              "        vertical-align: top;\n",
              "    }\n",
              "\n",
              "    .dataframe thead th {\n",
              "        text-align: right;\n",
              "    }\n",
              "</style>\n",
              "<table border=\"1\" class=\"dataframe\">\n",
              "  <thead>\n",
              "    <tr style=\"text-align: right;\">\n",
              "      <th></th>\n",
              "      <th>housing_median_age</th>\n",
              "      <th>total_rooms</th>\n",
              "      <th>total_bedrooms</th>\n",
              "      <th>population</th>\n",
              "      <th>households</th>\n",
              "      <th>median_income</th>\n",
              "      <th>median_house_value</th>\n",
              "      <th>ocean_proximity</th>\n",
              "      <th>rooms_per_house</th>\n",
              "      <th>bedrooms_per_room</th>\n",
              "      <th>people_per_house</th>\n",
              "      <th>bedrooms_per_house</th>\n",
              "    </tr>\n",
              "  </thead>\n",
              "  <tbody>\n",
              "    <tr>\n",
              "      <th>0</th>\n",
              "      <td>41.0</td>\n",
              "      <td>880.0</td>\n",
              "      <td>129.0</td>\n",
              "      <td>322.0</td>\n",
              "      <td>126.0</td>\n",
              "      <td>8.3252</td>\n",
              "      <td>452600.0</td>\n",
              "      <td>NEAR BAY</td>\n",
              "      <td>6.984127</td>\n",
              "      <td>0.146591</td>\n",
              "      <td>2.555556</td>\n",
              "      <td>1.023810</td>\n",
              "    </tr>\n",
              "    <tr>\n",
              "      <th>1</th>\n",
              "      <td>21.0</td>\n",
              "      <td>7099.0</td>\n",
              "      <td>1106.0</td>\n",
              "      <td>2401.0</td>\n",
              "      <td>1138.0</td>\n",
              "      <td>8.3014</td>\n",
              "      <td>358500.0</td>\n",
              "      <td>NEAR BAY</td>\n",
              "      <td>6.238137</td>\n",
              "      <td>0.155797</td>\n",
              "      <td>2.109842</td>\n",
              "      <td>0.971880</td>\n",
              "    </tr>\n",
              "    <tr>\n",
              "      <th>2</th>\n",
              "      <td>52.0</td>\n",
              "      <td>1467.0</td>\n",
              "      <td>190.0</td>\n",
              "      <td>496.0</td>\n",
              "      <td>177.0</td>\n",
              "      <td>7.2574</td>\n",
              "      <td>352100.0</td>\n",
              "      <td>NEAR BAY</td>\n",
              "      <td>8.288136</td>\n",
              "      <td>0.129516</td>\n",
              "      <td>2.802260</td>\n",
              "      <td>1.073446</td>\n",
              "    </tr>\n",
              "    <tr>\n",
              "      <th>3</th>\n",
              "      <td>52.0</td>\n",
              "      <td>1274.0</td>\n",
              "      <td>235.0</td>\n",
              "      <td>558.0</td>\n",
              "      <td>219.0</td>\n",
              "      <td>5.6431</td>\n",
              "      <td>341300.0</td>\n",
              "      <td>NEAR BAY</td>\n",
              "      <td>5.817352</td>\n",
              "      <td>0.184458</td>\n",
              "      <td>2.547945</td>\n",
              "      <td>1.073059</td>\n",
              "    </tr>\n",
              "    <tr>\n",
              "      <th>4</th>\n",
              "      <td>52.0</td>\n",
              "      <td>1627.0</td>\n",
              "      <td>280.0</td>\n",
              "      <td>565.0</td>\n",
              "      <td>259.0</td>\n",
              "      <td>3.8462</td>\n",
              "      <td>342200.0</td>\n",
              "      <td>NEAR BAY</td>\n",
              "      <td>6.281853</td>\n",
              "      <td>0.172096</td>\n",
              "      <td>2.181467</td>\n",
              "      <td>1.081081</td>\n",
              "    </tr>\n",
              "  </tbody>\n",
              "</table>\n",
              "</div>\n",
              "      <button class=\"colab-df-convert\" onclick=\"convertToInteractive('df-3ad0daf9-103b-4752-a17e-0565846b3831')\"\n",
              "              title=\"Convert this dataframe to an interactive table.\"\n",
              "              style=\"display:none;\">\n",
              "        \n",
              "  <svg xmlns=\"http://www.w3.org/2000/svg\" height=\"24px\"viewBox=\"0 0 24 24\"\n",
              "       width=\"24px\">\n",
              "    <path d=\"M0 0h24v24H0V0z\" fill=\"none\"/>\n",
              "    <path d=\"M18.56 5.44l.94 2.06.94-2.06 2.06-.94-2.06-.94-.94-2.06-.94 2.06-2.06.94zm-11 1L8.5 8.5l.94-2.06 2.06-.94-2.06-.94L8.5 2.5l-.94 2.06-2.06.94zm10 10l.94 2.06.94-2.06 2.06-.94-2.06-.94-.94-2.06-.94 2.06-2.06.94z\"/><path d=\"M17.41 7.96l-1.37-1.37c-.4-.4-.92-.59-1.43-.59-.52 0-1.04.2-1.43.59L10.3 9.45l-7.72 7.72c-.78.78-.78 2.05 0 2.83L4 21.41c.39.39.9.59 1.41.59.51 0 1.02-.2 1.41-.59l7.78-7.78 2.81-2.81c.8-.78.8-2.07 0-2.86zM5.41 20L4 18.59l7.72-7.72 1.47 1.35L5.41 20z\"/>\n",
              "  </svg>\n",
              "      </button>\n",
              "      \n",
              "  <style>\n",
              "    .colab-df-container {\n",
              "      display:flex;\n",
              "      flex-wrap:wrap;\n",
              "      gap: 12px;\n",
              "    }\n",
              "\n",
              "    .colab-df-convert {\n",
              "      background-color: #E8F0FE;\n",
              "      border: none;\n",
              "      border-radius: 50%;\n",
              "      cursor: pointer;\n",
              "      display: none;\n",
              "      fill: #1967D2;\n",
              "      height: 32px;\n",
              "      padding: 0 0 0 0;\n",
              "      width: 32px;\n",
              "    }\n",
              "\n",
              "    .colab-df-convert:hover {\n",
              "      background-color: #E2EBFA;\n",
              "      box-shadow: 0px 1px 2px rgba(60, 64, 67, 0.3), 0px 1px 3px 1px rgba(60, 64, 67, 0.15);\n",
              "      fill: #174EA6;\n",
              "    }\n",
              "\n",
              "    [theme=dark] .colab-df-convert {\n",
              "      background-color: #3B4455;\n",
              "      fill: #D2E3FC;\n",
              "    }\n",
              "\n",
              "    [theme=dark] .colab-df-convert:hover {\n",
              "      background-color: #434B5C;\n",
              "      box-shadow: 0px 1px 3px 1px rgba(0, 0, 0, 0.15);\n",
              "      filter: drop-shadow(0px 1px 2px rgba(0, 0, 0, 0.3));\n",
              "      fill: #FFFFFF;\n",
              "    }\n",
              "  </style>\n",
              "\n",
              "      <script>\n",
              "        const buttonEl =\n",
              "          document.querySelector('#df-3ad0daf9-103b-4752-a17e-0565846b3831 button.colab-df-convert');\n",
              "        buttonEl.style.display =\n",
              "          google.colab.kernel.accessAllowed ? 'block' : 'none';\n",
              "\n",
              "        async function convertToInteractive(key) {\n",
              "          const element = document.querySelector('#df-3ad0daf9-103b-4752-a17e-0565846b3831');\n",
              "          const dataTable =\n",
              "            await google.colab.kernel.invokeFunction('convertToInteractive',\n",
              "                                                     [key], {});\n",
              "          if (!dataTable) return;\n",
              "\n",
              "          const docLinkHtml = 'Like what you see? Visit the ' +\n",
              "            '<a target=\"_blank\" href=https://colab.research.google.com/notebooks/data_table.ipynb>data table notebook</a>'\n",
              "            + ' to learn more about interactive tables.';\n",
              "          element.innerHTML = '';\n",
              "          dataTable['output_type'] = 'display_data';\n",
              "          await google.colab.output.renderOutput(dataTable, element);\n",
              "          const docLink = document.createElement('div');\n",
              "          docLink.innerHTML = docLinkHtml;\n",
              "          element.appendChild(docLink);\n",
              "        }\n",
              "      </script>\n",
              "    </div>\n",
              "  </div>\n",
              "  "
            ]
          },
          "metadata": {},
          "execution_count": 16
        }
      ]
    },
    {
      "cell_type": "code",
      "source": [
        "corr = housing.corr()\n",
        "corr['median_house_value'].sort_values(ascending=False)"
      ],
      "metadata": {
        "colab": {
          "base_uri": "https://localhost:8080/"
        },
        "id": "asFvtI4xsmNS",
        "outputId": "daf5fe8e-f3ff-48ba-a471-c8383eb36614"
      },
      "execution_count": null,
      "outputs": [
        {
          "output_type": "stream",
          "name": "stderr",
          "text": [
            "<ipython-input-17-7fbc5a5514e8>:1: FutureWarning: The default value of numeric_only in DataFrame.corr is deprecated. In a future version, it will default to False. Select only valid columns or specify the value of numeric_only to silence this warning.\n",
            "  corr = housing.corr()\n"
          ]
        },
        {
          "output_type": "execute_result",
          "data": {
            "text/plain": [
              "median_house_value    1.000000\n",
              "median_income         0.688075\n",
              "rooms_per_house       0.151948\n",
              "total_rooms           0.134153\n",
              "housing_median_age    0.105623\n",
              "households            0.065843\n",
              "total_bedrooms        0.049686\n",
              "people_per_house     -0.023737\n",
              "population           -0.024650\n",
              "bedrooms_per_house   -0.046739\n",
              "bedrooms_per_room    -0.255880\n",
              "Name: median_house_value, dtype: float64"
            ]
          },
          "metadata": {},
          "execution_count": 17
        }
      ]
    },
    {
      "cell_type": "code",
      "source": [
        "X = housing.drop(columns=['median_house_value'])\n",
        "y= housing['median_house_value']"
      ],
      "metadata": {
        "id": "JLxX0IN6ubwq"
      },
      "execution_count": null,
      "outputs": []
    },
    {
      "cell_type": "code",
      "source": [
        "from sklearn.pipeline import Pipeline\n",
        "from sklearn.impute import SimpleImputer\n",
        "from sklearn.preprocessing import StandardScaler, OneHotEncoder\n",
        "num_pipeline = Pipeline([\n",
        "    ('impute',SimpleImputer(strategy='mean')),\n",
        "    ('standardize',StandardScaler())\n",
        "])\n",
        "\n",
        "cat_pipeline = Pipeline([\n",
        "    ('impute', SimpleImputer(strategy='most_frequent')),\n",
        "    ('encode', OneHotEncoder(handle_unknown='ignore'))\n",
        "])"
      ],
      "metadata": {
        "id": "upvP_0IC0xPA"
      },
      "execution_count": null,
      "outputs": []
    },
    {
      "cell_type": "code",
      "source": [
        "from sklearn.compose import make_column_transformer,make_column_selector\n",
        "from sklearn.preprocessing import StandardScaler, OneHotEncoder\n",
        "\n",
        "#Create column transformer\n",
        "ct = make_column_transformer(\n",
        "    (num_pipeline, make_column_selector(dtype_include=np.number)),\n",
        "    (cat_pipeline, make_column_selector(dtype_include=object))\n",
        ")"
      ],
      "metadata": {
        "id": "9xGDppNYsr9q"
      },
      "execution_count": null,
      "outputs": []
    },
    {
      "cell_type": "code",
      "source": [
        "from sklearn.model_selection import train_test_split\n",
        "\n",
        "X_train,X_test,y_train,y_test = train_test_split(X,y,test_size=.2, random_state=42)"
      ],
      "metadata": {
        "id": "RX4Wx3xTujQL"
      },
      "execution_count": null,
      "outputs": []
    },
    {
      "cell_type": "code",
      "source": [
        "ct.fit(X_train)"
      ],
      "metadata": {
        "colab": {
          "base_uri": "https://localhost:8080/",
          "height": 152
        },
        "id": "XYnoMdHMu-WH",
        "outputId": "07e244cb-fe5d-4dc3-abc4-4a4c3f66852e"
      },
      "execution_count": null,
      "outputs": [
        {
          "output_type": "execute_result",
          "data": {
            "text/plain": [
              "ColumnTransformer(transformers=[('pipeline-1',\n",
              "                                 Pipeline(steps=[('impute', SimpleImputer()),\n",
              "                                                 ('standardize',\n",
              "                                                  StandardScaler())]),\n",
              "                                 <sklearn.compose._column_transformer.make_column_selector object at 0x7f80ec4cb370>),\n",
              "                                ('pipeline-2',\n",
              "                                 Pipeline(steps=[('impute',\n",
              "                                                  SimpleImputer(strategy='most_frequent')),\n",
              "                                                 ('encode',\n",
              "                                                  OneHotEncoder(handle_unknown='ignore'))]),\n",
              "                                 <sklearn.compose._column_transformer.make_column_selector object at 0x7f80ec4cbac0>)])"
            ],
            "text/html": [
              "<style>#sk-container-id-1 {color: black;background-color: white;}#sk-container-id-1 pre{padding: 0;}#sk-container-id-1 div.sk-toggleable {background-color: white;}#sk-container-id-1 label.sk-toggleable__label {cursor: pointer;display: block;width: 100%;margin-bottom: 0;padding: 0.3em;box-sizing: border-box;text-align: center;}#sk-container-id-1 label.sk-toggleable__label-arrow:before {content: \"▸\";float: left;margin-right: 0.25em;color: #696969;}#sk-container-id-1 label.sk-toggleable__label-arrow:hover:before {color: black;}#sk-container-id-1 div.sk-estimator:hover label.sk-toggleable__label-arrow:before {color: black;}#sk-container-id-1 div.sk-toggleable__content {max-height: 0;max-width: 0;overflow: hidden;text-align: left;background-color: #f0f8ff;}#sk-container-id-1 div.sk-toggleable__content pre {margin: 0.2em;color: black;border-radius: 0.25em;background-color: #f0f8ff;}#sk-container-id-1 input.sk-toggleable__control:checked~div.sk-toggleable__content {max-height: 200px;max-width: 100%;overflow: auto;}#sk-container-id-1 input.sk-toggleable__control:checked~label.sk-toggleable__label-arrow:before {content: \"▾\";}#sk-container-id-1 div.sk-estimator input.sk-toggleable__control:checked~label.sk-toggleable__label {background-color: #d4ebff;}#sk-container-id-1 div.sk-label input.sk-toggleable__control:checked~label.sk-toggleable__label {background-color: #d4ebff;}#sk-container-id-1 input.sk-hidden--visually {border: 0;clip: rect(1px 1px 1px 1px);clip: rect(1px, 1px, 1px, 1px);height: 1px;margin: -1px;overflow: hidden;padding: 0;position: absolute;width: 1px;}#sk-container-id-1 div.sk-estimator {font-family: monospace;background-color: #f0f8ff;border: 1px dotted black;border-radius: 0.25em;box-sizing: border-box;margin-bottom: 0.5em;}#sk-container-id-1 div.sk-estimator:hover {background-color: #d4ebff;}#sk-container-id-1 div.sk-parallel-item::after {content: \"\";width: 100%;border-bottom: 1px solid gray;flex-grow: 1;}#sk-container-id-1 div.sk-label:hover label.sk-toggleable__label {background-color: #d4ebff;}#sk-container-id-1 div.sk-serial::before {content: \"\";position: absolute;border-left: 1px solid gray;box-sizing: border-box;top: 0;bottom: 0;left: 50%;z-index: 0;}#sk-container-id-1 div.sk-serial {display: flex;flex-direction: column;align-items: center;background-color: white;padding-right: 0.2em;padding-left: 0.2em;position: relative;}#sk-container-id-1 div.sk-item {position: relative;z-index: 1;}#sk-container-id-1 div.sk-parallel {display: flex;align-items: stretch;justify-content: center;background-color: white;position: relative;}#sk-container-id-1 div.sk-item::before, #sk-container-id-1 div.sk-parallel-item::before {content: \"\";position: absolute;border-left: 1px solid gray;box-sizing: border-box;top: 0;bottom: 0;left: 50%;z-index: -1;}#sk-container-id-1 div.sk-parallel-item {display: flex;flex-direction: column;z-index: 1;position: relative;background-color: white;}#sk-container-id-1 div.sk-parallel-item:first-child::after {align-self: flex-end;width: 50%;}#sk-container-id-1 div.sk-parallel-item:last-child::after {align-self: flex-start;width: 50%;}#sk-container-id-1 div.sk-parallel-item:only-child::after {width: 0;}#sk-container-id-1 div.sk-dashed-wrapped {border: 1px dashed gray;margin: 0 0.4em 0.5em 0.4em;box-sizing: border-box;padding-bottom: 0.4em;background-color: white;}#sk-container-id-1 div.sk-label label {font-family: monospace;font-weight: bold;display: inline-block;line-height: 1.2em;}#sk-container-id-1 div.sk-label-container {text-align: center;}#sk-container-id-1 div.sk-container {/* jupyter's `normalize.less` sets `[hidden] { display: none; }` but bootstrap.min.css set `[hidden] { display: none !important; }` so we also need the `!important` here to be able to override the default hidden behavior on the sphinx rendered scikit-learn.org. See: https://github.com/scikit-learn/scikit-learn/issues/21755 */display: inline-block !important;position: relative;}#sk-container-id-1 div.sk-text-repr-fallback {display: none;}</style><div id=\"sk-container-id-1\" class=\"sk-top-container\"><div class=\"sk-text-repr-fallback\"><pre>ColumnTransformer(transformers=[(&#x27;pipeline-1&#x27;,\n",
              "                                 Pipeline(steps=[(&#x27;impute&#x27;, SimpleImputer()),\n",
              "                                                 (&#x27;standardize&#x27;,\n",
              "                                                  StandardScaler())]),\n",
              "                                 &lt;sklearn.compose._column_transformer.make_column_selector object at 0x7f80ec4cb370&gt;),\n",
              "                                (&#x27;pipeline-2&#x27;,\n",
              "                                 Pipeline(steps=[(&#x27;impute&#x27;,\n",
              "                                                  SimpleImputer(strategy=&#x27;most_frequent&#x27;)),\n",
              "                                                 (&#x27;encode&#x27;,\n",
              "                                                  OneHotEncoder(handle_unknown=&#x27;ignore&#x27;))]),\n",
              "                                 &lt;sklearn.compose._column_transformer.make_column_selector object at 0x7f80ec4cbac0&gt;)])</pre><b>In a Jupyter environment, please rerun this cell to show the HTML representation or trust the notebook. <br />On GitHub, the HTML representation is unable to render, please try loading this page with nbviewer.org.</b></div><div class=\"sk-container\" hidden><div class=\"sk-item sk-dashed-wrapped\"><div class=\"sk-label-container\"><div class=\"sk-label sk-toggleable\"><input class=\"sk-toggleable__control sk-hidden--visually\" id=\"sk-estimator-id-1\" type=\"checkbox\" ><label for=\"sk-estimator-id-1\" class=\"sk-toggleable__label sk-toggleable__label-arrow\">ColumnTransformer</label><div class=\"sk-toggleable__content\"><pre>ColumnTransformer(transformers=[(&#x27;pipeline-1&#x27;,\n",
              "                                 Pipeline(steps=[(&#x27;impute&#x27;, SimpleImputer()),\n",
              "                                                 (&#x27;standardize&#x27;,\n",
              "                                                  StandardScaler())]),\n",
              "                                 &lt;sklearn.compose._column_transformer.make_column_selector object at 0x7f80ec4cb370&gt;),\n",
              "                                (&#x27;pipeline-2&#x27;,\n",
              "                                 Pipeline(steps=[(&#x27;impute&#x27;,\n",
              "                                                  SimpleImputer(strategy=&#x27;most_frequent&#x27;)),\n",
              "                                                 (&#x27;encode&#x27;,\n",
              "                                                  OneHotEncoder(handle_unknown=&#x27;ignore&#x27;))]),\n",
              "                                 &lt;sklearn.compose._column_transformer.make_column_selector object at 0x7f80ec4cbac0&gt;)])</pre></div></div></div><div class=\"sk-parallel\"><div class=\"sk-parallel-item\"><div class=\"sk-item\"><div class=\"sk-label-container\"><div class=\"sk-label sk-toggleable\"><input class=\"sk-toggleable__control sk-hidden--visually\" id=\"sk-estimator-id-2\" type=\"checkbox\" ><label for=\"sk-estimator-id-2\" class=\"sk-toggleable__label sk-toggleable__label-arrow\">pipeline-1</label><div class=\"sk-toggleable__content\"><pre>&lt;sklearn.compose._column_transformer.make_column_selector object at 0x7f80ec4cb370&gt;</pre></div></div></div><div class=\"sk-serial\"><div class=\"sk-item\"><div class=\"sk-serial\"><div class=\"sk-item\"><div class=\"sk-estimator sk-toggleable\"><input class=\"sk-toggleable__control sk-hidden--visually\" id=\"sk-estimator-id-3\" type=\"checkbox\" ><label for=\"sk-estimator-id-3\" class=\"sk-toggleable__label sk-toggleable__label-arrow\">SimpleImputer</label><div class=\"sk-toggleable__content\"><pre>SimpleImputer()</pre></div></div></div><div class=\"sk-item\"><div class=\"sk-estimator sk-toggleable\"><input class=\"sk-toggleable__control sk-hidden--visually\" id=\"sk-estimator-id-4\" type=\"checkbox\" ><label for=\"sk-estimator-id-4\" class=\"sk-toggleable__label sk-toggleable__label-arrow\">StandardScaler</label><div class=\"sk-toggleable__content\"><pre>StandardScaler()</pre></div></div></div></div></div></div></div></div><div class=\"sk-parallel-item\"><div class=\"sk-item\"><div class=\"sk-label-container\"><div class=\"sk-label sk-toggleable\"><input class=\"sk-toggleable__control sk-hidden--visually\" id=\"sk-estimator-id-5\" type=\"checkbox\" ><label for=\"sk-estimator-id-5\" class=\"sk-toggleable__label sk-toggleable__label-arrow\">pipeline-2</label><div class=\"sk-toggleable__content\"><pre>&lt;sklearn.compose._column_transformer.make_column_selector object at 0x7f80ec4cbac0&gt;</pre></div></div></div><div class=\"sk-serial\"><div class=\"sk-item\"><div class=\"sk-serial\"><div class=\"sk-item\"><div class=\"sk-estimator sk-toggleable\"><input class=\"sk-toggleable__control sk-hidden--visually\" id=\"sk-estimator-id-6\" type=\"checkbox\" ><label for=\"sk-estimator-id-6\" class=\"sk-toggleable__label sk-toggleable__label-arrow\">SimpleImputer</label><div class=\"sk-toggleable__content\"><pre>SimpleImputer(strategy=&#x27;most_frequent&#x27;)</pre></div></div></div><div class=\"sk-item\"><div class=\"sk-estimator sk-toggleable\"><input class=\"sk-toggleable__control sk-hidden--visually\" id=\"sk-estimator-id-7\" type=\"checkbox\" ><label for=\"sk-estimator-id-7\" class=\"sk-toggleable__label sk-toggleable__label-arrow\">OneHotEncoder</label><div class=\"sk-toggleable__content\"><pre>OneHotEncoder(handle_unknown=&#x27;ignore&#x27;)</pre></div></div></div></div></div></div></div></div></div></div></div></div>"
            ]
          },
          "metadata": {},
          "execution_count": 22
        }
      ]
    },
    {
      "cell_type": "code",
      "source": [
        "X_train_normal = ct.transform(X_train)\n",
        "\n",
        "X_test_normal = ct.transform(X_test)"
      ],
      "metadata": {
        "id": "iG7rbiuqu_HY"
      },
      "execution_count": null,
      "outputs": []
    },
    {
      "cell_type": "code",
      "source": [
        "len(X_train), len(X_test), len(y_train), len(y_test)"
      ],
      "metadata": {
        "colab": {
          "base_uri": "https://localhost:8080/"
        },
        "id": "VosyPIyKu0uS",
        "outputId": "6b439bb7-3c5e-48f4-c0b1-2320ed9a1add"
      },
      "execution_count": null,
      "outputs": [
        {
          "output_type": "execute_result",
          "data": {
            "text/plain": [
              "(16512, 4128, 16512, 4128)"
            ]
          },
          "metadata": {},
          "execution_count": 24
        }
      ]
    },
    {
      "cell_type": "code",
      "source": [
        "X_train.head()"
      ],
      "metadata": {
        "colab": {
          "base_uri": "https://localhost:8080/",
          "height": 206
        },
        "id": "suy86Qv1wwvU",
        "outputId": "b2b6a9ba-cd0b-443f-fc2b-6d7f666028d9"
      },
      "execution_count": null,
      "outputs": [
        {
          "output_type": "execute_result",
          "data": {
            "text/plain": [
              "       housing_median_age  total_rooms  total_bedrooms  population  \\\n",
              "14196                34.0       6001.0          1111.0      2654.0   \n",
              "8267                 10.0        901.0           163.0       698.0   \n",
              "17445                28.0       6909.0          1554.0      2974.0   \n",
              "14265                25.0       4021.0           634.0      2178.0   \n",
              "2271                  8.0        240.0            46.0        63.0   \n",
              "\n",
              "       households  median_income ocean_proximity  rooms_per_house  \\\n",
              "14196      1072.0         4.5878      NEAR OCEAN         5.597948   \n",
              "8267        167.0         4.6648      NEAR OCEAN         5.395210   \n",
              "17445      1484.0         3.6875        NEAR BAY         4.655660   \n",
              "14265       650.0         5.1663       <1H OCEAN         6.186154   \n",
              "2271         24.0         1.4688          INLAND        10.000000   \n",
              "\n",
              "       bedrooms_per_room  people_per_house  bedrooms_per_house  \n",
              "14196           0.185136          2.475746            1.036381  \n",
              "8267            0.180910          4.179641            0.976048  \n",
              "17445           0.224924          2.004043            1.047170  \n",
              "14265           0.157672          3.350769            0.975385  \n",
              "2271            0.191667          2.625000            1.916667  "
            ],
            "text/html": [
              "\n",
              "  <div id=\"df-20cdf005-b379-493a-862a-e265f4c138e8\">\n",
              "    <div class=\"colab-df-container\">\n",
              "      <div>\n",
              "<style scoped>\n",
              "    .dataframe tbody tr th:only-of-type {\n",
              "        vertical-align: middle;\n",
              "    }\n",
              "\n",
              "    .dataframe tbody tr th {\n",
              "        vertical-align: top;\n",
              "    }\n",
              "\n",
              "    .dataframe thead th {\n",
              "        text-align: right;\n",
              "    }\n",
              "</style>\n",
              "<table border=\"1\" class=\"dataframe\">\n",
              "  <thead>\n",
              "    <tr style=\"text-align: right;\">\n",
              "      <th></th>\n",
              "      <th>housing_median_age</th>\n",
              "      <th>total_rooms</th>\n",
              "      <th>total_bedrooms</th>\n",
              "      <th>population</th>\n",
              "      <th>households</th>\n",
              "      <th>median_income</th>\n",
              "      <th>ocean_proximity</th>\n",
              "      <th>rooms_per_house</th>\n",
              "      <th>bedrooms_per_room</th>\n",
              "      <th>people_per_house</th>\n",
              "      <th>bedrooms_per_house</th>\n",
              "    </tr>\n",
              "  </thead>\n",
              "  <tbody>\n",
              "    <tr>\n",
              "      <th>14196</th>\n",
              "      <td>34.0</td>\n",
              "      <td>6001.0</td>\n",
              "      <td>1111.0</td>\n",
              "      <td>2654.0</td>\n",
              "      <td>1072.0</td>\n",
              "      <td>4.5878</td>\n",
              "      <td>NEAR OCEAN</td>\n",
              "      <td>5.597948</td>\n",
              "      <td>0.185136</td>\n",
              "      <td>2.475746</td>\n",
              "      <td>1.036381</td>\n",
              "    </tr>\n",
              "    <tr>\n",
              "      <th>8267</th>\n",
              "      <td>10.0</td>\n",
              "      <td>901.0</td>\n",
              "      <td>163.0</td>\n",
              "      <td>698.0</td>\n",
              "      <td>167.0</td>\n",
              "      <td>4.6648</td>\n",
              "      <td>NEAR OCEAN</td>\n",
              "      <td>5.395210</td>\n",
              "      <td>0.180910</td>\n",
              "      <td>4.179641</td>\n",
              "      <td>0.976048</td>\n",
              "    </tr>\n",
              "    <tr>\n",
              "      <th>17445</th>\n",
              "      <td>28.0</td>\n",
              "      <td>6909.0</td>\n",
              "      <td>1554.0</td>\n",
              "      <td>2974.0</td>\n",
              "      <td>1484.0</td>\n",
              "      <td>3.6875</td>\n",
              "      <td>NEAR BAY</td>\n",
              "      <td>4.655660</td>\n",
              "      <td>0.224924</td>\n",
              "      <td>2.004043</td>\n",
              "      <td>1.047170</td>\n",
              "    </tr>\n",
              "    <tr>\n",
              "      <th>14265</th>\n",
              "      <td>25.0</td>\n",
              "      <td>4021.0</td>\n",
              "      <td>634.0</td>\n",
              "      <td>2178.0</td>\n",
              "      <td>650.0</td>\n",
              "      <td>5.1663</td>\n",
              "      <td>&lt;1H OCEAN</td>\n",
              "      <td>6.186154</td>\n",
              "      <td>0.157672</td>\n",
              "      <td>3.350769</td>\n",
              "      <td>0.975385</td>\n",
              "    </tr>\n",
              "    <tr>\n",
              "      <th>2271</th>\n",
              "      <td>8.0</td>\n",
              "      <td>240.0</td>\n",
              "      <td>46.0</td>\n",
              "      <td>63.0</td>\n",
              "      <td>24.0</td>\n",
              "      <td>1.4688</td>\n",
              "      <td>INLAND</td>\n",
              "      <td>10.000000</td>\n",
              "      <td>0.191667</td>\n",
              "      <td>2.625000</td>\n",
              "      <td>1.916667</td>\n",
              "    </tr>\n",
              "  </tbody>\n",
              "</table>\n",
              "</div>\n",
              "      <button class=\"colab-df-convert\" onclick=\"convertToInteractive('df-20cdf005-b379-493a-862a-e265f4c138e8')\"\n",
              "              title=\"Convert this dataframe to an interactive table.\"\n",
              "              style=\"display:none;\">\n",
              "        \n",
              "  <svg xmlns=\"http://www.w3.org/2000/svg\" height=\"24px\"viewBox=\"0 0 24 24\"\n",
              "       width=\"24px\">\n",
              "    <path d=\"M0 0h24v24H0V0z\" fill=\"none\"/>\n",
              "    <path d=\"M18.56 5.44l.94 2.06.94-2.06 2.06-.94-2.06-.94-.94-2.06-.94 2.06-2.06.94zm-11 1L8.5 8.5l.94-2.06 2.06-.94-2.06-.94L8.5 2.5l-.94 2.06-2.06.94zm10 10l.94 2.06.94-2.06 2.06-.94-2.06-.94-.94-2.06-.94 2.06-2.06.94z\"/><path d=\"M17.41 7.96l-1.37-1.37c-.4-.4-.92-.59-1.43-.59-.52 0-1.04.2-1.43.59L10.3 9.45l-7.72 7.72c-.78.78-.78 2.05 0 2.83L4 21.41c.39.39.9.59 1.41.59.51 0 1.02-.2 1.41-.59l7.78-7.78 2.81-2.81c.8-.78.8-2.07 0-2.86zM5.41 20L4 18.59l7.72-7.72 1.47 1.35L5.41 20z\"/>\n",
              "  </svg>\n",
              "      </button>\n",
              "      \n",
              "  <style>\n",
              "    .colab-df-container {\n",
              "      display:flex;\n",
              "      flex-wrap:wrap;\n",
              "      gap: 12px;\n",
              "    }\n",
              "\n",
              "    .colab-df-convert {\n",
              "      background-color: #E8F0FE;\n",
              "      border: none;\n",
              "      border-radius: 50%;\n",
              "      cursor: pointer;\n",
              "      display: none;\n",
              "      fill: #1967D2;\n",
              "      height: 32px;\n",
              "      padding: 0 0 0 0;\n",
              "      width: 32px;\n",
              "    }\n",
              "\n",
              "    .colab-df-convert:hover {\n",
              "      background-color: #E2EBFA;\n",
              "      box-shadow: 0px 1px 2px rgba(60, 64, 67, 0.3), 0px 1px 3px 1px rgba(60, 64, 67, 0.15);\n",
              "      fill: #174EA6;\n",
              "    }\n",
              "\n",
              "    [theme=dark] .colab-df-convert {\n",
              "      background-color: #3B4455;\n",
              "      fill: #D2E3FC;\n",
              "    }\n",
              "\n",
              "    [theme=dark] .colab-df-convert:hover {\n",
              "      background-color: #434B5C;\n",
              "      box-shadow: 0px 1px 3px 1px rgba(0, 0, 0, 0.15);\n",
              "      filter: drop-shadow(0px 1px 2px rgba(0, 0, 0, 0.3));\n",
              "      fill: #FFFFFF;\n",
              "    }\n",
              "  </style>\n",
              "\n",
              "      <script>\n",
              "        const buttonEl =\n",
              "          document.querySelector('#df-20cdf005-b379-493a-862a-e265f4c138e8 button.colab-df-convert');\n",
              "        buttonEl.style.display =\n",
              "          google.colab.kernel.accessAllowed ? 'block' : 'none';\n",
              "\n",
              "        async function convertToInteractive(key) {\n",
              "          const element = document.querySelector('#df-20cdf005-b379-493a-862a-e265f4c138e8');\n",
              "          const dataTable =\n",
              "            await google.colab.kernel.invokeFunction('convertToInteractive',\n",
              "                                                     [key], {});\n",
              "          if (!dataTable) return;\n",
              "\n",
              "          const docLinkHtml = 'Like what you see? Visit the ' +\n",
              "            '<a target=\"_blank\" href=https://colab.research.google.com/notebooks/data_table.ipynb>data table notebook</a>'\n",
              "            + ' to learn more about interactive tables.';\n",
              "          element.innerHTML = '';\n",
              "          dataTable['output_type'] = 'display_data';\n",
              "          await google.colab.output.renderOutput(dataTable, element);\n",
              "          const docLink = document.createElement('div');\n",
              "          docLink.innerHTML = docLinkHtml;\n",
              "          element.appendChild(docLink);\n",
              "        }\n",
              "      </script>\n",
              "    </div>\n",
              "  </div>\n",
              "  "
            ]
          },
          "metadata": {},
          "execution_count": 25
        }
      ]
    },
    {
      "cell_type": "code",
      "source": [
        "X_train_normal"
      ],
      "metadata": {
        "colab": {
          "base_uri": "https://localhost:8080/"
        },
        "id": "iqLM7wXt2M_2",
        "outputId": "a9f4db09-7f7b-45b0-ec6e-ffd596c17782"
      },
      "execution_count": null,
      "outputs": [
        {
          "output_type": "execute_result",
          "data": {
            "text/plain": [
              "array([[ 0.42853749,  1.57055658,  1.37478489, ...,  0.        ,\n",
              "         0.        ,  1.        ],\n",
              "       [-1.47350948, -0.8094394 , -0.90339975, ...,  0.        ,\n",
              "         0.        ,  1.        ],\n",
              "       [-0.04697426,  1.9942892 ,  2.43937961, ...,  0.        ,\n",
              "         1.        ,  0.        ],\n",
              "       ...,\n",
              "       [-0.99799774, -0.00537409, -0.02865375, ...,  0.        ,\n",
              "         0.        ,  0.        ],\n",
              "       [-0.522486  , -0.07864063,  0.03863441, ...,  0.        ,\n",
              "         0.        ,  0.        ],\n",
              "       [-0.522486  , -0.65590632, -0.81448326, ...,  0.        ,\n",
              "         0.        ,  0.        ]])"
            ]
          },
          "metadata": {},
          "execution_count": 26
        }
      ]
    },
    {
      "cell_type": "code",
      "source": [
        "from sklearn.linear_model import LinearRegression\n",
        "\n",
        "lin_reg = LinearRegression()\n",
        "lin_reg.fit(X_train_normal,y_train)"
      ],
      "metadata": {
        "colab": {
          "base_uri": "https://localhost:8080/",
          "height": 75
        },
        "id": "grfkSy-XvqTo",
        "outputId": "233e57ec-4968-47c8-8aef-1c306a29feba"
      },
      "execution_count": null,
      "outputs": [
        {
          "output_type": "execute_result",
          "data": {
            "text/plain": [
              "LinearRegression()"
            ],
            "text/html": [
              "<style>#sk-container-id-2 {color: black;background-color: white;}#sk-container-id-2 pre{padding: 0;}#sk-container-id-2 div.sk-toggleable {background-color: white;}#sk-container-id-2 label.sk-toggleable__label {cursor: pointer;display: block;width: 100%;margin-bottom: 0;padding: 0.3em;box-sizing: border-box;text-align: center;}#sk-container-id-2 label.sk-toggleable__label-arrow:before {content: \"▸\";float: left;margin-right: 0.25em;color: #696969;}#sk-container-id-2 label.sk-toggleable__label-arrow:hover:before {color: black;}#sk-container-id-2 div.sk-estimator:hover label.sk-toggleable__label-arrow:before {color: black;}#sk-container-id-2 div.sk-toggleable__content {max-height: 0;max-width: 0;overflow: hidden;text-align: left;background-color: #f0f8ff;}#sk-container-id-2 div.sk-toggleable__content pre {margin: 0.2em;color: black;border-radius: 0.25em;background-color: #f0f8ff;}#sk-container-id-2 input.sk-toggleable__control:checked~div.sk-toggleable__content {max-height: 200px;max-width: 100%;overflow: auto;}#sk-container-id-2 input.sk-toggleable__control:checked~label.sk-toggleable__label-arrow:before {content: \"▾\";}#sk-container-id-2 div.sk-estimator input.sk-toggleable__control:checked~label.sk-toggleable__label {background-color: #d4ebff;}#sk-container-id-2 div.sk-label input.sk-toggleable__control:checked~label.sk-toggleable__label {background-color: #d4ebff;}#sk-container-id-2 input.sk-hidden--visually {border: 0;clip: rect(1px 1px 1px 1px);clip: rect(1px, 1px, 1px, 1px);height: 1px;margin: -1px;overflow: hidden;padding: 0;position: absolute;width: 1px;}#sk-container-id-2 div.sk-estimator {font-family: monospace;background-color: #f0f8ff;border: 1px dotted black;border-radius: 0.25em;box-sizing: border-box;margin-bottom: 0.5em;}#sk-container-id-2 div.sk-estimator:hover {background-color: #d4ebff;}#sk-container-id-2 div.sk-parallel-item::after {content: \"\";width: 100%;border-bottom: 1px solid gray;flex-grow: 1;}#sk-container-id-2 div.sk-label:hover label.sk-toggleable__label {background-color: #d4ebff;}#sk-container-id-2 div.sk-serial::before {content: \"\";position: absolute;border-left: 1px solid gray;box-sizing: border-box;top: 0;bottom: 0;left: 50%;z-index: 0;}#sk-container-id-2 div.sk-serial {display: flex;flex-direction: column;align-items: center;background-color: white;padding-right: 0.2em;padding-left: 0.2em;position: relative;}#sk-container-id-2 div.sk-item {position: relative;z-index: 1;}#sk-container-id-2 div.sk-parallel {display: flex;align-items: stretch;justify-content: center;background-color: white;position: relative;}#sk-container-id-2 div.sk-item::before, #sk-container-id-2 div.sk-parallel-item::before {content: \"\";position: absolute;border-left: 1px solid gray;box-sizing: border-box;top: 0;bottom: 0;left: 50%;z-index: -1;}#sk-container-id-2 div.sk-parallel-item {display: flex;flex-direction: column;z-index: 1;position: relative;background-color: white;}#sk-container-id-2 div.sk-parallel-item:first-child::after {align-self: flex-end;width: 50%;}#sk-container-id-2 div.sk-parallel-item:last-child::after {align-self: flex-start;width: 50%;}#sk-container-id-2 div.sk-parallel-item:only-child::after {width: 0;}#sk-container-id-2 div.sk-dashed-wrapped {border: 1px dashed gray;margin: 0 0.4em 0.5em 0.4em;box-sizing: border-box;padding-bottom: 0.4em;background-color: white;}#sk-container-id-2 div.sk-label label {font-family: monospace;font-weight: bold;display: inline-block;line-height: 1.2em;}#sk-container-id-2 div.sk-label-container {text-align: center;}#sk-container-id-2 div.sk-container {/* jupyter's `normalize.less` sets `[hidden] { display: none; }` but bootstrap.min.css set `[hidden] { display: none !important; }` so we also need the `!important` here to be able to override the default hidden behavior on the sphinx rendered scikit-learn.org. See: https://github.com/scikit-learn/scikit-learn/issues/21755 */display: inline-block !important;position: relative;}#sk-container-id-2 div.sk-text-repr-fallback {display: none;}</style><div id=\"sk-container-id-2\" class=\"sk-top-container\"><div class=\"sk-text-repr-fallback\"><pre>LinearRegression()</pre><b>In a Jupyter environment, please rerun this cell to show the HTML representation or trust the notebook. <br />On GitHub, the HTML representation is unable to render, please try loading this page with nbviewer.org.</b></div><div class=\"sk-container\" hidden><div class=\"sk-item\"><div class=\"sk-estimator sk-toggleable\"><input class=\"sk-toggleable__control sk-hidden--visually\" id=\"sk-estimator-id-8\" type=\"checkbox\" checked><label for=\"sk-estimator-id-8\" class=\"sk-toggleable__label sk-toggleable__label-arrow\">LinearRegression</label><div class=\"sk-toggleable__content\"><pre>LinearRegression()</pre></div></div></div></div></div>"
            ]
          },
          "metadata": {},
          "execution_count": 27
        }
      ]
    },
    {
      "cell_type": "code",
      "source": [
        "y_pred = lin_reg.predict(X_test_normal)\n",
        "y_pred[:5]"
      ],
      "metadata": {
        "colab": {
          "base_uri": "https://localhost:8080/"
        },
        "id": "p9LkSxEawCof",
        "outputId": "2b6d3630-1a4a-4cd5-fc89-0a9d9f721b9a"
      },
      "execution_count": null,
      "outputs": [
        {
          "output_type": "execute_result",
          "data": {
            "text/plain": [
              "array([ 62095.99351805, 252704.24435777, 394584.75376907, 292703.19999589,\n",
              "       245364.79613292])"
            ]
          },
          "metadata": {},
          "execution_count": 28
        }
      ]
    },
    {
      "cell_type": "code",
      "source": [
        "y_test[:5]"
      ],
      "metadata": {
        "colab": {
          "base_uri": "https://localhost:8080/"
        },
        "id": "qD60-MI13Zid",
        "outputId": "f2617442-b060-4814-a604-de5893dc46ec"
      },
      "execution_count": null,
      "outputs": [
        {
          "output_type": "execute_result",
          "data": {
            "text/plain": [
              "20046     65600.0\n",
              "3024     353400.0\n",
              "15663    466700.0\n",
              "20484    500001.0\n",
              "9814     286100.0\n",
              "Name: median_house_value, dtype: float64"
            ]
          },
          "metadata": {},
          "execution_count": 29
        }
      ]
    },
    {
      "cell_type": "code",
      "source": [
        "from sklearn.metrics import mean_squared_error\n",
        "lin_rmse = mean_squared_error(y_test, y_pred, squared=False)\n",
        "lin_rmse"
      ],
      "metadata": {
        "colab": {
          "base_uri": "https://localhost:8080/"
        },
        "id": "u0kyiHnO3As3",
        "outputId": "c7ed9129-0f5a-4db4-b6f3-a6e47657b103"
      },
      "execution_count": null,
      "outputs": [
        {
          "output_type": "execute_result",
          "data": {
            "text/plain": [
              "70423.23970053566"
            ]
          },
          "metadata": {},
          "execution_count": 30
        }
      ]
    },
    {
      "cell_type": "code",
      "source": [
        "from sklearn.ensemble import RandomForestRegressor\n",
        "\n",
        "forest_reg = RandomForestRegressor(random_state=42)\n"
      ],
      "metadata": {
        "id": "yjaNbB7S3QO3"
      },
      "execution_count": null,
      "outputs": []
    },
    {
      "cell_type": "code",
      "source": [
        "forest_reg.fit(X_train_normal,y_train)\n",
        "\n",
        "y_pred = forest_reg.predict(X_test_normal)\n",
        "\n",
        "forest_rmse = mean_squared_error(y_test,y_pred, squared=False)\n",
        "\n",
        "forest_rmse"
      ],
      "metadata": {
        "colab": {
          "base_uri": "https://localhost:8080/"
        },
        "id": "l51giXf339kH",
        "outputId": "15e4d0fb-da47-443a-f60b-3b7c0e392fc6"
      },
      "execution_count": null,
      "outputs": [
        {
          "output_type": "execute_result",
          "data": {
            "text/plain": [
              "59500.864567062235"
            ]
          },
          "metadata": {},
          "execution_count": 32
        }
      ]
    },
    {
      "cell_type": "code",
      "source": [
        "from sklearn.ensemble import GradientBoostingRegressor\n",
        "\n",
        "gb_reg = GradientBoostingRegressor(random_state=42,n_estimators=150, max_depth=5)\n",
        "\n",
        "gb_reg.fit(X_train_normal,y_train)\n",
        "\n",
        "y_pred = gb_reg.predict(X_test_normal)\n",
        "\n",
        "gb_rmse = mean_squared_error(y_test,y_pred,squared=False)\n",
        "\n",
        "gb_rmse"
      ],
      "metadata": {
        "colab": {
          "base_uri": "https://localhost:8080/"
        },
        "id": "XQ0LcYNI7Ys-",
        "outputId": "0c9db3a8-0887-4dd3-c0eb-212c27f0061d"
      },
      "execution_count": null,
      "outputs": [
        {
          "output_type": "execute_result",
          "data": {
            "text/plain": [
              "59323.05341581906"
            ]
          },
          "metadata": {},
          "execution_count": 40
        }
      ]
    },
    {
      "cell_type": "code",
      "source": [
        "from sklearn.model_selection import cross_val_score\n",
        "from sklearn.pipeline import make_pipeline\n",
        "\n",
        "gb_reg_1 = make_pipeline(ct, GradientBoostingRegressor(random_state=42))\n",
        "\n",
        "gb_rmses = -cross_val_score(gb_reg_1, X_train, y_train, scoring= 'neg_root_mean_squared_error', cv = 10)\n"
      ],
      "metadata": {
        "id": "Pln4zPFOB6s0"
      },
      "execution_count": null,
      "outputs": []
    },
    {
      "cell_type": "code",
      "source": [
        "pd.Series(gb_rmses).describe()"
      ],
      "metadata": {
        "colab": {
          "base_uri": "https://localhost:8080/"
        },
        "id": "iM2YdXIvDQQs",
        "outputId": "b3ea7804-4f3b-41e9-fa46-eb7d4ad93c28"
      },
      "execution_count": null,
      "outputs": [
        {
          "output_type": "execute_result",
          "data": {
            "text/plain": [
              "count       10.000000\n",
              "mean     59539.907655\n",
              "std       1367.532647\n",
              "min      58023.843471\n",
              "25%      58503.932768\n",
              "50%      59679.046908\n",
              "75%      59987.985521\n",
              "max      62634.020986\n",
              "dtype: float64"
            ]
          },
          "metadata": {},
          "execution_count": 42
        }
      ]
    },
    {
      "cell_type": "code",
      "source": [
        "rf_reg_1 = make_pipeline(ct, RandomForestRegressor(random_state=42))\n",
        "\n",
        "rf_rmses = -cross_val_score(rf_reg_1, X_train, y_train, scoring= 'neg_root_mean_squared_error', cv = 10)"
      ],
      "metadata": {
        "id": "JgrzmiJMDX0-"
      },
      "execution_count": null,
      "outputs": []
    },
    {
      "cell_type": "code",
      "source": [
        "pd.Series(rf_rmses).describe()"
      ],
      "metadata": {
        "colab": {
          "base_uri": "https://localhost:8080/"
        },
        "id": "Oq3mm-tVDrKt",
        "outputId": "7cc19135-4ca8-48e2-bc0e-66fa6ef7691c"
      },
      "execution_count": null,
      "outputs": [
        {
          "output_type": "execute_result",
          "data": {
            "text/plain": [
              "count       10.000000\n",
              "mean     58737.603148\n",
              "std       1154.295512\n",
              "min      56572.673333\n",
              "25%      58320.962416\n",
              "50%      58753.034874\n",
              "75%      59196.882109\n",
              "max      60756.751708\n",
              "dtype: float64"
            ]
          },
          "metadata": {},
          "execution_count": 46
        }
      ]
    },
    {
      "cell_type": "code",
      "source": [
        "tf.random.set_seed(42)\n",
        "\n",
        "housing_model = tf.keras.Sequential([\n",
        "    tf.keras.layers.Dense(100),\n",
        "    tf.keras.layers.Dense(20, activation='relu'),\n",
        "    tf.keras.layers.Dense(20,activation='relu'),\n",
        "    tf.keras.layers.Dense(10),\n",
        "    tf.keras.layers.Dense(1)\n",
        "])\n",
        "\n",
        "housing_model.compile(optimizer = tf.keras.optimizers.Adam(),\n",
        "                          loss= tf.keras.losses.mae,\n",
        "                          metrics=['mae'])\n",
        "\n",
        "hist = housing_model.fit(X_train_normal,y_train,epochs=150)"
      ],
      "metadata": {
        "colab": {
          "base_uri": "https://localhost:8080/"
        },
        "id": "akunM2SREn25",
        "outputId": "37d0731a-8415-42b0-b8dc-c7f93904b96d"
      },
      "execution_count": null,
      "outputs": [
        {
          "output_type": "stream",
          "name": "stdout",
          "text": [
            "Epoch 1/150\n",
            "516/516 [==============================] - 9s 3ms/step - loss: 153106.0469 - mae: 153106.0469\n",
            "Epoch 2/150\n",
            "516/516 [==============================] - 2s 3ms/step - loss: 52523.8633 - mae: 52523.8633\n",
            "Epoch 3/150\n",
            "516/516 [==============================] - 1s 3ms/step - loss: 48407.6055 - mae: 48407.6055\n",
            "Epoch 4/150\n",
            "516/516 [==============================] - 2s 4ms/step - loss: 48008.2969 - mae: 48008.2969\n",
            "Epoch 5/150\n",
            "516/516 [==============================] - 2s 3ms/step - loss: 47879.8945 - mae: 47879.8945\n",
            "Epoch 6/150\n",
            "516/516 [==============================] - 1s 3ms/step - loss: 47787.1445 - mae: 47787.1445\n",
            "Epoch 7/150\n",
            "516/516 [==============================] - 2s 3ms/step - loss: 47749.1328 - mae: 47749.1328\n",
            "Epoch 8/150\n",
            "516/516 [==============================] - 1s 3ms/step - loss: 47705.8672 - mae: 47705.8672\n",
            "Epoch 9/150\n",
            "516/516 [==============================] - 1s 3ms/step - loss: 47668.3828 - mae: 47668.3828\n",
            "Epoch 10/150\n",
            "516/516 [==============================] - 1s 3ms/step - loss: 47602.4570 - mae: 47602.4570\n",
            "Epoch 11/150\n",
            "516/516 [==============================] - 1s 3ms/step - loss: 47565.3789 - mae: 47565.3789\n",
            "Epoch 12/150\n",
            "516/516 [==============================] - 2s 4ms/step - loss: 47520.2305 - mae: 47520.2305\n",
            "Epoch 13/150\n",
            "516/516 [==============================] - 2s 3ms/step - loss: 47391.5352 - mae: 47391.5352\n",
            "Epoch 14/150\n",
            "516/516 [==============================] - 1s 3ms/step - loss: 47352.0547 - mae: 47352.0547\n",
            "Epoch 15/150\n",
            "516/516 [==============================] - 1s 3ms/step - loss: 47226.5469 - mae: 47226.5469\n",
            "Epoch 16/150\n",
            "516/516 [==============================] - 1s 3ms/step - loss: 47093.8711 - mae: 47093.8711\n",
            "Epoch 17/150\n",
            "516/516 [==============================] - 1s 3ms/step - loss: 46976.9297 - mae: 46976.9297\n",
            "Epoch 18/150\n",
            "516/516 [==============================] - 2s 3ms/step - loss: 46839.9766 - mae: 46839.9766\n",
            "Epoch 19/150\n",
            "516/516 [==============================] - 1s 3ms/step - loss: 46710.6641 - mae: 46710.6641\n",
            "Epoch 20/150\n",
            "516/516 [==============================] - 2s 4ms/step - loss: 46573.0312 - mae: 46573.0312\n",
            "Epoch 21/150\n",
            "516/516 [==============================] - 2s 3ms/step - loss: 46425.1250 - mae: 46425.1250\n",
            "Epoch 22/150\n",
            "516/516 [==============================] - 1s 3ms/step - loss: 46311.4219 - mae: 46311.4219\n",
            "Epoch 23/150\n",
            "516/516 [==============================] - 1s 3ms/step - loss: 46187.4375 - mae: 46187.4375\n",
            "Epoch 24/150\n",
            "516/516 [==============================] - 1s 3ms/step - loss: 46101.9727 - mae: 46101.9727\n",
            "Epoch 25/150\n",
            "516/516 [==============================] - 2s 4ms/step - loss: 45966.1094 - mae: 45966.1094\n",
            "Epoch 26/150\n",
            "516/516 [==============================] - 3s 5ms/step - loss: 45837.0312 - mae: 45837.0312\n",
            "Epoch 27/150\n",
            "516/516 [==============================] - 3s 6ms/step - loss: 45717.6758 - mae: 45717.6758\n",
            "Epoch 28/150\n",
            "516/516 [==============================] - 3s 6ms/step - loss: 45586.0273 - mae: 45586.0273\n",
            "Epoch 29/150\n",
            "516/516 [==============================] - 3s 5ms/step - loss: 45514.2461 - mae: 45514.2461\n",
            "Epoch 30/150\n",
            "516/516 [==============================] - 3s 5ms/step - loss: 45445.5547 - mae: 45445.5547\n",
            "Epoch 31/150\n",
            "516/516 [==============================] - 2s 3ms/step - loss: 45388.2266 - mae: 45388.2266\n",
            "Epoch 32/150\n",
            "516/516 [==============================] - 2s 4ms/step - loss: 45301.5703 - mae: 45301.5703\n",
            "Epoch 33/150\n",
            "516/516 [==============================] - 1s 3ms/step - loss: 45253.0234 - mae: 45253.0234\n",
            "Epoch 34/150\n",
            "516/516 [==============================] - 1s 3ms/step - loss: 45176.3906 - mae: 45176.3906\n",
            "Epoch 35/150\n",
            "516/516 [==============================] - 1s 3ms/step - loss: 45143.9297 - mae: 45143.9297\n",
            "Epoch 36/150\n",
            "516/516 [==============================] - 1s 3ms/step - loss: 45116.6562 - mae: 45116.6562\n",
            "Epoch 37/150\n",
            "516/516 [==============================] - 1s 3ms/step - loss: 45045.7617 - mae: 45045.7617\n",
            "Epoch 38/150\n",
            "516/516 [==============================] - 1s 3ms/step - loss: 45013.2148 - mae: 45013.2148\n",
            "Epoch 39/150\n",
            "516/516 [==============================] - 2s 3ms/step - loss: 44965.0977 - mae: 44965.0977\n",
            "Epoch 40/150\n",
            "516/516 [==============================] - 2s 4ms/step - loss: 44970.1797 - mae: 44970.1797\n",
            "Epoch 41/150\n",
            "516/516 [==============================] - 2s 4ms/step - loss: 44944.0273 - mae: 44944.0273\n",
            "Epoch 42/150\n",
            "516/516 [==============================] - 2s 3ms/step - loss: 44891.9180 - mae: 44891.9180\n",
            "Epoch 43/150\n",
            "516/516 [==============================] - 1s 3ms/step - loss: 44898.6367 - mae: 44898.6367\n",
            "Epoch 44/150\n",
            "516/516 [==============================] - 1s 3ms/step - loss: 44839.6055 - mae: 44839.6055\n",
            "Epoch 45/150\n",
            "516/516 [==============================] - 1s 3ms/step - loss: 44813.5977 - mae: 44813.5977\n",
            "Epoch 46/150\n",
            "516/516 [==============================] - 2s 3ms/step - loss: 44779.0977 - mae: 44779.0977\n",
            "Epoch 47/150\n",
            "516/516 [==============================] - 2s 3ms/step - loss: 44812.1562 - mae: 44812.1562\n",
            "Epoch 48/150\n",
            "516/516 [==============================] - 2s 4ms/step - loss: 44742.6641 - mae: 44742.6641\n",
            "Epoch 49/150\n",
            "516/516 [==============================] - 1s 3ms/step - loss: 44720.9297 - mae: 44720.9297\n",
            "Epoch 50/150\n",
            "516/516 [==============================] - 2s 3ms/step - loss: 44699.9336 - mae: 44699.9336\n",
            "Epoch 51/150\n",
            "516/516 [==============================] - 1s 3ms/step - loss: 44652.2461 - mae: 44652.2461\n",
            "Epoch 52/150\n",
            "516/516 [==============================] - 1s 3ms/step - loss: 44662.4492 - mae: 44662.4492\n",
            "Epoch 53/150\n",
            "516/516 [==============================] - 1s 3ms/step - loss: 44650.6914 - mae: 44650.6914\n",
            "Epoch 54/150\n",
            "516/516 [==============================] - 1s 3ms/step - loss: 44643.7266 - mae: 44643.7266\n",
            "Epoch 55/150\n",
            "516/516 [==============================] - 2s 4ms/step - loss: 44631.6523 - mae: 44631.6523\n",
            "Epoch 56/150\n",
            "516/516 [==============================] - 2s 3ms/step - loss: 44638.5898 - mae: 44638.5898\n",
            "Epoch 57/150\n",
            "516/516 [==============================] - 1s 3ms/step - loss: 44582.5312 - mae: 44582.5312\n",
            "Epoch 58/150\n",
            "516/516 [==============================] - 1s 3ms/step - loss: 44607.3242 - mae: 44607.3242\n",
            "Epoch 59/150\n",
            "516/516 [==============================] - 1s 3ms/step - loss: 44595.0938 - mae: 44595.0938\n",
            "Epoch 60/150\n",
            "516/516 [==============================] - 2s 3ms/step - loss: 44541.0469 - mae: 44541.0469\n",
            "Epoch 61/150\n",
            "516/516 [==============================] - 1s 3ms/step - loss: 44529.4336 - mae: 44529.4336\n",
            "Epoch 62/150\n",
            "516/516 [==============================] - 1s 3ms/step - loss: 44536.8477 - mae: 44536.8477\n",
            "Epoch 63/150\n",
            "516/516 [==============================] - 2s 4ms/step - loss: 44497.7109 - mae: 44497.7109\n",
            "Epoch 64/150\n",
            "516/516 [==============================] - 2s 3ms/step - loss: 44507.8477 - mae: 44507.8477\n",
            "Epoch 65/150\n",
            "516/516 [==============================] - 1s 3ms/step - loss: 44514.3594 - mae: 44514.3594\n",
            "Epoch 66/150\n",
            "516/516 [==============================] - 1s 3ms/step - loss: 44487.7734 - mae: 44487.7734\n",
            "Epoch 67/150\n",
            "516/516 [==============================] - 1s 3ms/step - loss: 44513.8633 - mae: 44513.8633\n",
            "Epoch 68/150\n",
            "516/516 [==============================] - 2s 3ms/step - loss: 44457.3047 - mae: 44457.3047\n",
            "Epoch 69/150\n",
            "516/516 [==============================] - 2s 3ms/step - loss: 44484.2812 - mae: 44484.2812\n",
            "Epoch 70/150\n",
            "516/516 [==============================] - 1s 3ms/step - loss: 44485.3828 - mae: 44485.3828\n",
            "Epoch 71/150\n",
            "516/516 [==============================] - 2s 4ms/step - loss: 44411.7344 - mae: 44411.7344\n",
            "Epoch 72/150\n",
            "516/516 [==============================] - 2s 3ms/step - loss: 44403.7500 - mae: 44403.7500\n",
            "Epoch 73/150\n",
            "516/516 [==============================] - 1s 3ms/step - loss: 44433.8164 - mae: 44433.8164\n",
            "Epoch 74/150\n",
            "516/516 [==============================] - 1s 3ms/step - loss: 44409.2500 - mae: 44409.2500\n",
            "Epoch 75/150\n",
            "516/516 [==============================] - 1s 3ms/step - loss: 44429.6953 - mae: 44429.6953\n",
            "Epoch 76/150\n",
            "516/516 [==============================] - 1s 3ms/step - loss: 44387.6055 - mae: 44387.6055\n",
            "Epoch 77/150\n",
            "516/516 [==============================] - 1s 3ms/step - loss: 44398.4180 - mae: 44398.4180\n",
            "Epoch 78/150\n",
            "516/516 [==============================] - 2s 3ms/step - loss: 44385.6211 - mae: 44385.6211\n",
            "Epoch 79/150\n",
            "516/516 [==============================] - 2s 4ms/step - loss: 44393.7266 - mae: 44393.7266\n",
            "Epoch 80/150\n",
            "516/516 [==============================] - 2s 3ms/step - loss: 44378.9766 - mae: 44378.9766\n",
            "Epoch 81/150\n",
            "516/516 [==============================] - 1s 3ms/step - loss: 44332.4844 - mae: 44332.4844\n",
            "Epoch 82/150\n",
            "516/516 [==============================] - 1s 3ms/step - loss: 44367.1719 - mae: 44367.1719\n",
            "Epoch 83/150\n",
            "516/516 [==============================] - 1s 3ms/step - loss: 44344.4688 - mae: 44344.4688\n",
            "Epoch 84/150\n",
            "516/516 [==============================] - 2s 3ms/step - loss: 44303.9492 - mae: 44303.9492\n",
            "Epoch 85/150\n",
            "516/516 [==============================] - 1s 3ms/step - loss: 44339.9062 - mae: 44339.9062\n",
            "Epoch 86/150\n",
            "516/516 [==============================] - 2s 3ms/step - loss: 44319.6875 - mae: 44319.6875\n",
            "Epoch 87/150\n",
            "516/516 [==============================] - 2s 4ms/step - loss: 44341.2539 - mae: 44341.2539\n",
            "Epoch 88/150\n",
            "516/516 [==============================] - 2s 3ms/step - loss: 44349.1562 - mae: 44349.1562\n",
            "Epoch 89/150\n",
            "516/516 [==============================] - 2s 3ms/step - loss: 44282.5820 - mae: 44282.5820\n",
            "Epoch 90/150\n",
            "516/516 [==============================] - 1s 3ms/step - loss: 44265.0273 - mae: 44265.0273\n",
            "Epoch 91/150\n",
            "516/516 [==============================] - 2s 3ms/step - loss: 44270.5352 - mae: 44270.5352\n",
            "Epoch 92/150\n",
            "516/516 [==============================] - 1s 3ms/step - loss: 44261.0625 - mae: 44261.0625\n",
            "Epoch 93/150\n",
            "516/516 [==============================] - 2s 4ms/step - loss: 44261.1367 - mae: 44261.1367\n",
            "Epoch 94/150\n",
            "516/516 [==============================] - 3s 5ms/step - loss: 44258.3477 - mae: 44258.3477\n",
            "Epoch 95/150\n",
            "516/516 [==============================] - 2s 3ms/step - loss: 44259.8477 - mae: 44259.8477\n",
            "Epoch 96/150\n",
            "516/516 [==============================] - 1s 3ms/step - loss: 44257.5195 - mae: 44257.5195\n",
            "Epoch 97/150\n",
            "516/516 [==============================] - 1s 3ms/step - loss: 44244.5078 - mae: 44244.5078\n",
            "Epoch 98/150\n",
            "516/516 [==============================] - 1s 3ms/step - loss: 44231.8984 - mae: 44231.8984\n",
            "Epoch 99/150\n",
            "516/516 [==============================] - 2s 3ms/step - loss: 44237.1406 - mae: 44237.1406\n",
            "Epoch 100/150\n",
            "516/516 [==============================] - 1s 3ms/step - loss: 44249.1992 - mae: 44249.1992\n",
            "Epoch 101/150\n",
            "516/516 [==============================] - 2s 4ms/step - loss: 44174.6484 - mae: 44174.6484\n",
            "Epoch 102/150\n",
            "516/516 [==============================] - 2s 4ms/step - loss: 44191.0312 - mae: 44191.0312\n",
            "Epoch 103/150\n",
            "516/516 [==============================] - 1s 3ms/step - loss: 44210.7695 - mae: 44210.7695\n",
            "Epoch 104/150\n",
            "516/516 [==============================] - 1s 3ms/step - loss: 44144.0938 - mae: 44144.0938\n",
            "Epoch 105/150\n",
            "516/516 [==============================] - 2s 3ms/step - loss: 44154.9570 - mae: 44154.9570\n",
            "Epoch 106/150\n",
            "516/516 [==============================] - 2s 3ms/step - loss: 44105.1133 - mae: 44105.1133\n",
            "Epoch 107/150\n",
            "516/516 [==============================] - 1s 3ms/step - loss: 44115.7617 - mae: 44115.7617\n",
            "Epoch 108/150\n",
            "516/516 [==============================] - 1s 3ms/step - loss: 44113.7305 - mae: 44113.7305\n",
            "Epoch 109/150\n",
            "516/516 [==============================] - 2s 4ms/step - loss: 44102.8867 - mae: 44102.8867\n",
            "Epoch 110/150\n",
            "516/516 [==============================] - 2s 4ms/step - loss: 44071.7656 - mae: 44071.7656\n",
            "Epoch 111/150\n",
            "516/516 [==============================] - 1s 3ms/step - loss: 44079.0859 - mae: 44079.0859\n",
            "Epoch 112/150\n",
            "516/516 [==============================] - 1s 3ms/step - loss: 44109.5430 - mae: 44109.5430\n",
            "Epoch 113/150\n",
            "516/516 [==============================] - 2s 3ms/step - loss: 44062.8594 - mae: 44062.8594\n",
            "Epoch 114/150\n",
            "516/516 [==============================] - 1s 3ms/step - loss: 44046.0742 - mae: 44046.0742\n",
            "Epoch 115/150\n",
            "516/516 [==============================] - 1s 3ms/step - loss: 44040.6719 - mae: 44040.6719\n",
            "Epoch 116/150\n",
            "516/516 [==============================] - 2s 3ms/step - loss: 44072.5469 - mae: 44072.5469\n",
            "Epoch 117/150\n",
            "516/516 [==============================] - 2s 4ms/step - loss: 43971.0391 - mae: 43971.0391\n",
            "Epoch 118/150\n",
            "516/516 [==============================] - 2s 3ms/step - loss: 44003.2305 - mae: 44003.2305\n",
            "Epoch 119/150\n",
            "516/516 [==============================] - 1s 3ms/step - loss: 43980.5859 - mae: 43980.5859\n",
            "Epoch 120/150\n",
            "516/516 [==============================] - 2s 3ms/step - loss: 43979.6016 - mae: 43979.6016\n",
            "Epoch 121/150\n",
            "516/516 [==============================] - 2s 3ms/step - loss: 43989.4883 - mae: 43989.4883\n",
            "Epoch 122/150\n",
            "516/516 [==============================] - 1s 3ms/step - loss: 43997.1289 - mae: 43997.1289\n",
            "Epoch 123/150\n",
            "516/516 [==============================] - 1s 3ms/step - loss: 43953.9609 - mae: 43953.9609\n",
            "Epoch 124/150\n",
            "516/516 [==============================] - 2s 3ms/step - loss: 43929.2344 - mae: 43929.2344\n",
            "Epoch 125/150\n",
            "516/516 [==============================] - 2s 4ms/step - loss: 43981.2109 - mae: 43981.2109\n",
            "Epoch 126/150\n",
            "516/516 [==============================] - 2s 3ms/step - loss: 43913.6992 - mae: 43913.6992\n",
            "Epoch 127/150\n",
            "516/516 [==============================] - 2s 3ms/step - loss: 43932.1133 - mae: 43932.1133\n",
            "Epoch 128/150\n",
            "516/516 [==============================] - 2s 3ms/step - loss: 43947.2539 - mae: 43947.2539\n",
            "Epoch 129/150\n",
            "516/516 [==============================] - 2s 3ms/step - loss: 43871.7617 - mae: 43871.7617\n",
            "Epoch 130/150\n",
            "516/516 [==============================] - 2s 3ms/step - loss: 43966.5039 - mae: 43966.5039\n",
            "Epoch 131/150\n",
            "516/516 [==============================] - 1s 3ms/step - loss: 43869.6836 - mae: 43869.6836\n",
            "Epoch 132/150\n",
            "516/516 [==============================] - 2s 3ms/step - loss: 43915.2617 - mae: 43915.2617\n",
            "Epoch 133/150\n",
            "516/516 [==============================] - 2s 4ms/step - loss: 43878.5625 - mae: 43878.5625\n",
            "Epoch 134/150\n",
            "516/516 [==============================] - 3s 6ms/step - loss: 43861.4609 - mae: 43861.4609\n",
            "Epoch 135/150\n",
            "516/516 [==============================] - 2s 4ms/step - loss: 43914.8906 - mae: 43914.8906\n",
            "Epoch 136/150\n",
            "516/516 [==============================] - 1s 3ms/step - loss: 43861.4219 - mae: 43861.4219\n",
            "Epoch 137/150\n",
            "516/516 [==============================] - 2s 3ms/step - loss: 43831.3750 - mae: 43831.3750\n",
            "Epoch 138/150\n",
            "516/516 [==============================] - 2s 3ms/step - loss: 43855.6836 - mae: 43855.6836\n",
            "Epoch 139/150\n",
            "516/516 [==============================] - 2s 4ms/step - loss: 43865.3906 - mae: 43865.3906\n",
            "Epoch 140/150\n",
            "516/516 [==============================] - 2s 3ms/step - loss: 43839.5391 - mae: 43839.5391\n",
            "Epoch 141/150\n",
            "516/516 [==============================] - 2s 3ms/step - loss: 43857.2773 - mae: 43857.2773\n",
            "Epoch 142/150\n",
            "516/516 [==============================] - 1s 3ms/step - loss: 43820.7461 - mae: 43820.7461\n",
            "Epoch 143/150\n",
            "516/516 [==============================] - 2s 3ms/step - loss: 43863.4531 - mae: 43863.4531\n",
            "Epoch 144/150\n",
            "516/516 [==============================] - 2s 3ms/step - loss: 43849.1289 - mae: 43849.1289\n",
            "Epoch 145/150\n",
            "516/516 [==============================] - 2s 3ms/step - loss: 43806.9414 - mae: 43806.9414\n",
            "Epoch 146/150\n",
            "516/516 [==============================] - 2s 3ms/step - loss: 43803.0039 - mae: 43803.0039\n",
            "Epoch 147/150\n",
            "516/516 [==============================] - 2s 4ms/step - loss: 43781.7852 - mae: 43781.7852\n",
            "Epoch 148/150\n",
            "516/516 [==============================] - 2s 3ms/step - loss: 43835.5625 - mae: 43835.5625\n",
            "Epoch 149/150\n",
            "516/516 [==============================] - 1s 3ms/step - loss: 43817.4961 - mae: 43817.4961\n",
            "Epoch 150/150\n",
            "516/516 [==============================] - 1s 3ms/step - loss: 43787.1953 - mae: 43787.1953\n"
          ]
        }
      ]
    },
    {
      "cell_type": "code",
      "source": [
        "housing_model.evaluate(X_test_normal,y_test)"
      ],
      "metadata": {
        "colab": {
          "base_uri": "https://localhost:8080/"
        },
        "id": "jcFDN7msEwvU",
        "outputId": "d4ad9286-0d58-456b-d361-3179180903ee"
      },
      "execution_count": null,
      "outputs": [
        {
          "output_type": "stream",
          "name": "stdout",
          "text": [
            "129/129 [==============================] - 0s 2ms/step - loss: 44732.7500 - mae: 44732.7500\n"
          ]
        },
        {
          "output_type": "execute_result",
          "data": {
            "text/plain": [
              "[44732.75, 44732.75]"
            ]
          },
          "metadata": {},
          "execution_count": 48
        }
      ]
    }
  ]
}